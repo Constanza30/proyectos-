{
 "cells": [
  {
   "cell_type": "markdown",
   "metadata": {},
   "source": [
    "# Hola &#x1F600;,\n",
    "\n",
    "Soy **Hesus Garcia** – **\"Soy el único Hesus que conoces (y probablemente conocerás) 🌟\"** – Sí, como \"Jesús\", pero con una H que me hace único. Puede sonar raro, pero créeme, ¡no lo olvidarás! Como tu revisor en Triple-Ten, estoy aquí para guiarte y ayudarte a mejorar tu código. Si algo necesita un ajuste, no hay de qué preocuparse; ¡aquí estoy para hacer que tu trabajo brille con todo su potencial! ✨\n",
    "\n",
    "Cada vez que encuentre un detalle importante en tu código, te lo señalaré para que puedas corregirlo y así te prepares para un ambiente de trabajo real, donde el líder de tu equipo actuaría de manera similar. Si en algún momento no logras solucionar el problema, te daré más detalles para ayudarte en nuestra próxima oportunidad de revisión.\n",
    "\n",
    "Es importante que cuando encuentres un comentario, **no los muevas, no los modifiques, ni los borres**.\n",
    "\n",
    "---\n",
    "\n",
    "### Formato de Comentarios\n",
    "\n",
    "Revisaré cuidadosamente cada implementación en tu notebook para asegurar que cumpla con los requisitos y te daré comentarios de acuerdo al siguiente formato:\n",
    "\n",
    "\n",
    "<div class=\"alert alert-block alert-success\">\n",
    "<b>Comentario del revisor</b> <a class=\"tocSkip\"></a><br>\n",
    "    \n",
    "<b>Éxito</b> - ¡Excelente trabajo! Esta parte está bien implementada y contribuye significativamente al análisis de datos o al proyecto. Continúa aplicando estas buenas prácticas en futuras secciones.\n",
    "    \n",
    "</div>\n",
    "\n",
    "<div class=\"alert alert-block alert-warning\">\n",
    "<b>Comentario del revisor</b> <a class=\"tocSkip\"></a><br>\n",
    "    \n",
    "<b>Atención</b> ⚠️ - Este código está correcto, pero se puede optimizar. Considera implementar mejoras para que sea más eficiente y fácil de leer. Esto fortalecerá la calidad de tu proyecto.\n",
    "    \n",
    "</div>\n",
    "\n",
    "<div class=\"alert alert-block alert-danger\">\n",
    "<b>Comentario del revisor</b> <a class=\"tocSkip\"></a><br>\n",
    "    \n",
    "<b>A resolver</b> ❗ - Aquí hay un problema o error en el código que es necesario corregir para aprobar esta sección. Por favor, revisa y corrige este punto, ya que es fundamental para la validez del análisis y la precisión de los resultados.\n",
    "    \n",
    "</div>\n",
    "\n",
    "---\n",
    "\n",
    "Al final de cada revisión, recibirás un **Comentario General del Revisor** que incluirá:\n",
    "\n",
    "- **Aspectos positivos:** Un resumen de los puntos fuertes de tu proyecto.\n",
    "- **Áreas de mejora:** Sugerencias sobre aspectos donde puedes mejorar.\n",
    "- **Temas adicionales para investigar:** Ideas de temas opcionales que puedes explorar por tu cuenta para desarrollar aún más tus habilidades.\n",
    "\n",
    "Estos temas adicionales no son obligatorios en esta etapa, pero pueden serte útiles para profundizar en el futuro.\n",
    "\n",
    "---\n",
    "\n",
    "\n",
    "Esta estructura en viñetas facilita la lectura y comprensión de cada parte del comentario final.\n",
    "\n",
    "También puedes responderme de la siguiente manera si tienes alguna duda o quieres aclarar algo específico:\n",
    "\n",
    "\n",
    "<div class=\"alert alert-block alert-info\">\n",
    "<b>Respuesta del estudiante</b> <a class=\"tocSkip\"></a>\n",
    "    \n",
    "Aquí puedes escribir tu respuesta o pregunta sobre el comentario.\n",
    "    \n",
    "</div>\n",
    "\n",
    "\n",
    "**¡Empecemos!** &#x1F680;\n"
   ]
  },
  {
   "cell_type": "markdown",
   "metadata": {},
   "source": [
    "# **PROYECTO SPRINT 11**"
   ]
  },
  {
   "cell_type": "markdown",
   "metadata": {},
   "source": [
    "### **Descripción del proyecto**"
   ]
  },
  {
   "cell_type": "markdown",
   "metadata": {},
   "source": [
    "Trabajas en una empresa emergente que vende productos alimenticios. Debes investigar el comportamiento del usuario para la aplicación de la empresa.\n",
    "\n",
    "Primero, estudia el embudo de ventas. Descubre cómo los usuarios llegan a la etapa de compra. ¿Cuántos usuarios realmente llegan a esta etapa? ¿Cuántos se atascan en etapas anteriores? ¿Qué etapas en particular?\n",
    "\n",
    "Luego, observa los resultados de un test A/A/B (sigue leyendo para obtener más información sobre los test A/A/B). Al equipo de diseño le gustaría cambiar las fuentes de toda la aplicación, pero la gerencia teme que los usuarios piensen que el nuevo diseño es intimidante. Por ello, deciden tomar una decisión basada en los resultados de un test A/A/B.\n",
    "\n",
    "Los usuarios se dividen en tres grupos: dos grupos de control obtienen las fuentes antiguas y un grupo de prueba obtiene las nuevas. Descubre qué conjunto de fuentes produce mejores resultados.\n",
    "\n",
    "Crear dos grupos A tiene ciertas ventajas. Podemos establecer el principio de que solo confiaremos en la exactitud de nuestras pruebas cuando los dos grupos de control sean similares. Si hay diferencias significativas entre los grupos A, esto puede ayudarnos a descubrir factores que pueden estar distorsionando los resultados. La comparación de grupos de control también nos dice cuánto tiempo y datos necesitaremos cuando realicemos más tests.\n",
    "\n",
    "Utilizarás el mismo dataset para el análisis general y para el análisis A/A/B. En proyectos reales, los experimentos se llevan a cabo constantemente. El equipo de análisis estudia la calidad de una aplicación utilizando datos generales, sin prestar atención a si los usuarios participan en experimentos"
   ]
  },
  {
   "cell_type": "markdown",
   "metadata": {},
   "source": [
    "#### **Descripción de los datos**"
   ]
  },
  {
   "cell_type": "markdown",
   "metadata": {},
   "source": [
    "Cada entrada de registro es una acción de usuario o un evento.\n",
    "\n",
    "EventName: nombre del evento.\n",
    "DeviceIDHash: identificador de usuario unívoco.\n",
    "EventTimestamp: hora del evento.\n",
    "ExpId: número de experimento. 246 y 247 son los grupos de control, y 248 es el grupo de prueba."
   ]
  },
  {
   "cell_type": "markdown",
   "metadata": {},
   "source": [
    "### **Instrucciones para completar el proyecto**"
   ]
  },
  {
   "cell_type": "markdown",
   "metadata": {},
   "source": [
    "## **Paso 1. Abrir el archivo de datos y leer la información general**"
   ]
  },
  {
   "cell_type": "code",
   "execution_count": 1,
   "metadata": {},
   "outputs": [],
   "source": [
    "# Importar liberías\n",
    "\n",
    "import pandas as pd\n",
    "import numpy as np\n",
    "import seaborn as sns\n",
    "import matplotlib.pyplot as plt\n",
    "import scipy.stats as st\n",
    "import datetime as dt"
   ]
  },
  {
   "cell_type": "code",
   "execution_count": 2,
   "metadata": {},
   "outputs": [],
   "source": [
    "# Leer los datos\n",
    "\n",
    "registros = pd.read_csv('/datasets/logs_exp_us.csv', sep='\\t')"
   ]
  },
  {
   "cell_type": "code",
   "execution_count": 3,
   "metadata": {},
   "outputs": [
    {
     "name": "stdout",
     "output_type": "stream",
     "text": [
      "<class 'pandas.core.frame.DataFrame'>\n",
      "RangeIndex: 244126 entries, 0 to 244125\n",
      "Data columns (total 4 columns):\n",
      " #   Column          Non-Null Count   Dtype \n",
      "---  ------          --------------   ----- \n",
      " 0   EventName       244126 non-null  object\n",
      " 1   DeviceIDHash    244126 non-null  int64 \n",
      " 2   EventTimestamp  244126 non-null  int64 \n",
      " 3   ExpId           244126 non-null  int64 \n",
      "dtypes: int64(3), object(1)\n",
      "memory usage: 7.5+ MB\n"
     ]
    }
   ],
   "source": [
    "registros.info()"
   ]
  },
  {
   "cell_type": "code",
   "execution_count": 4,
   "metadata": {},
   "outputs": [
    {
     "data": {
      "text/html": [
       "<div>\n",
       "<style scoped>\n",
       "    .dataframe tbody tr th:only-of-type {\n",
       "        vertical-align: middle;\n",
       "    }\n",
       "\n",
       "    .dataframe tbody tr th {\n",
       "        vertical-align: top;\n",
       "    }\n",
       "\n",
       "    .dataframe thead th {\n",
       "        text-align: right;\n",
       "    }\n",
       "</style>\n",
       "<table border=\"1\" class=\"dataframe\">\n",
       "  <thead>\n",
       "    <tr style=\"text-align: right;\">\n",
       "      <th></th>\n",
       "      <th>EventName</th>\n",
       "      <th>DeviceIDHash</th>\n",
       "      <th>EventTimestamp</th>\n",
       "      <th>ExpId</th>\n",
       "    </tr>\n",
       "  </thead>\n",
       "  <tbody>\n",
       "    <tr>\n",
       "      <th>0</th>\n",
       "      <td>MainScreenAppear</td>\n",
       "      <td>4575588528974610257</td>\n",
       "      <td>1564029816</td>\n",
       "      <td>246</td>\n",
       "    </tr>\n",
       "    <tr>\n",
       "      <th>1</th>\n",
       "      <td>MainScreenAppear</td>\n",
       "      <td>7416695313311560658</td>\n",
       "      <td>1564053102</td>\n",
       "      <td>246</td>\n",
       "    </tr>\n",
       "    <tr>\n",
       "      <th>2</th>\n",
       "      <td>PaymentScreenSuccessful</td>\n",
       "      <td>3518123091307005509</td>\n",
       "      <td>1564054127</td>\n",
       "      <td>248</td>\n",
       "    </tr>\n",
       "    <tr>\n",
       "      <th>3</th>\n",
       "      <td>CartScreenAppear</td>\n",
       "      <td>3518123091307005509</td>\n",
       "      <td>1564054127</td>\n",
       "      <td>248</td>\n",
       "    </tr>\n",
       "    <tr>\n",
       "      <th>4</th>\n",
       "      <td>PaymentScreenSuccessful</td>\n",
       "      <td>6217807653094995999</td>\n",
       "      <td>1564055322</td>\n",
       "      <td>248</td>\n",
       "    </tr>\n",
       "    <tr>\n",
       "      <th>5</th>\n",
       "      <td>CartScreenAppear</td>\n",
       "      <td>6217807653094995999</td>\n",
       "      <td>1564055323</td>\n",
       "      <td>248</td>\n",
       "    </tr>\n",
       "    <tr>\n",
       "      <th>6</th>\n",
       "      <td>OffersScreenAppear</td>\n",
       "      <td>8351860793733343758</td>\n",
       "      <td>1564066242</td>\n",
       "      <td>246</td>\n",
       "    </tr>\n",
       "    <tr>\n",
       "      <th>7</th>\n",
       "      <td>MainScreenAppear</td>\n",
       "      <td>5682100281902512875</td>\n",
       "      <td>1564085677</td>\n",
       "      <td>246</td>\n",
       "    </tr>\n",
       "    <tr>\n",
       "      <th>8</th>\n",
       "      <td>MainScreenAppear</td>\n",
       "      <td>1850981295691852772</td>\n",
       "      <td>1564086702</td>\n",
       "      <td>247</td>\n",
       "    </tr>\n",
       "    <tr>\n",
       "      <th>9</th>\n",
       "      <td>MainScreenAppear</td>\n",
       "      <td>5407636962369102641</td>\n",
       "      <td>1564112112</td>\n",
       "      <td>246</td>\n",
       "    </tr>\n",
       "  </tbody>\n",
       "</table>\n",
       "</div>"
      ],
      "text/plain": [
       "                 EventName         DeviceIDHash  EventTimestamp  ExpId\n",
       "0         MainScreenAppear  4575588528974610257      1564029816    246\n",
       "1         MainScreenAppear  7416695313311560658      1564053102    246\n",
       "2  PaymentScreenSuccessful  3518123091307005509      1564054127    248\n",
       "3         CartScreenAppear  3518123091307005509      1564054127    248\n",
       "4  PaymentScreenSuccessful  6217807653094995999      1564055322    248\n",
       "5         CartScreenAppear  6217807653094995999      1564055323    248\n",
       "6       OffersScreenAppear  8351860793733343758      1564066242    246\n",
       "7         MainScreenAppear  5682100281902512875      1564085677    246\n",
       "8         MainScreenAppear  1850981295691852772      1564086702    247\n",
       "9         MainScreenAppear  5407636962369102641      1564112112    246"
      ]
     },
     "execution_count": 4,
     "metadata": {},
     "output_type": "execute_result"
    }
   ],
   "source": [
    "registros.head(10)"
   ]
  },
  {
   "cell_type": "markdown",
   "metadata": {},
   "source": [
    "Luego de la lectura de los datos se obtiene el DataFrame 'registros' que contiene 4 columnas 'EventName' correspondiente a los nombres de los eventos, 'DeviceIDHash' es el identificador de cada usuario, 'EventTimestamp' fecha y hora del evento y la columna 'ExpId' indicando el grupo de la prueba.\n",
    "En total este DataFrame contiene 244126 filas, al parecer todos los datos son no nulos. Mas adelante se realizará el cambio del tipo de datos de la columna que contien la información de fecha y hora de cada evento al tipo de datos datetime."
   ]
  },
  {
   "cell_type": "markdown",
   "metadata": {},
   "source": [
    "<div class=\"alert alert-block alert-success\">  \n",
    "<b>Comentario del revisor</b> <a class=\"tocSkip\"></a><br>  \n",
    "<b>Éxito</b> - Muy buena primera sección: hiciste una carga ordenada del archivo, mostraste un resumen de estructura del DataFrame con `info()` y diste una lectura clara de las primeras filas. Esto sienta una base sólida para continuar con la exploración y transformación de los datos. </div>\n"
   ]
  },
  {
   "cell_type": "markdown",
   "metadata": {},
   "source": [
    "## **Paso 2. Preparar los datos para el análisis**"
   ]
  },
  {
   "cell_type": "markdown",
   "metadata": {},
   "source": [
    "### **2.1. Cambia el nombre de las columnas de manera que sea conveniente para ti**"
   ]
  },
  {
   "cell_type": "code",
   "execution_count": 5,
   "metadata": {},
   "outputs": [
    {
     "data": {
      "text/html": [
       "<div>\n",
       "<style scoped>\n",
       "    .dataframe tbody tr th:only-of-type {\n",
       "        vertical-align: middle;\n",
       "    }\n",
       "\n",
       "    .dataframe tbody tr th {\n",
       "        vertical-align: top;\n",
       "    }\n",
       "\n",
       "    .dataframe thead th {\n",
       "        text-align: right;\n",
       "    }\n",
       "</style>\n",
       "<table border=\"1\" class=\"dataframe\">\n",
       "  <thead>\n",
       "    <tr style=\"text-align: right;\">\n",
       "      <th></th>\n",
       "      <th>event_name</th>\n",
       "      <th>user_id</th>\n",
       "      <th>event_time</th>\n",
       "      <th>group</th>\n",
       "    </tr>\n",
       "  </thead>\n",
       "  <tbody>\n",
       "    <tr>\n",
       "      <th>0</th>\n",
       "      <td>MainScreenAppear</td>\n",
       "      <td>4575588528974610257</td>\n",
       "      <td>1564029816</td>\n",
       "      <td>246</td>\n",
       "    </tr>\n",
       "    <tr>\n",
       "      <th>1</th>\n",
       "      <td>MainScreenAppear</td>\n",
       "      <td>7416695313311560658</td>\n",
       "      <td>1564053102</td>\n",
       "      <td>246</td>\n",
       "    </tr>\n",
       "    <tr>\n",
       "      <th>2</th>\n",
       "      <td>PaymentScreenSuccessful</td>\n",
       "      <td>3518123091307005509</td>\n",
       "      <td>1564054127</td>\n",
       "      <td>248</td>\n",
       "    </tr>\n",
       "    <tr>\n",
       "      <th>3</th>\n",
       "      <td>CartScreenAppear</td>\n",
       "      <td>3518123091307005509</td>\n",
       "      <td>1564054127</td>\n",
       "      <td>248</td>\n",
       "    </tr>\n",
       "    <tr>\n",
       "      <th>4</th>\n",
       "      <td>PaymentScreenSuccessful</td>\n",
       "      <td>6217807653094995999</td>\n",
       "      <td>1564055322</td>\n",
       "      <td>248</td>\n",
       "    </tr>\n",
       "  </tbody>\n",
       "</table>\n",
       "</div>"
      ],
      "text/plain": [
       "                event_name              user_id  event_time  group\n",
       "0         MainScreenAppear  4575588528974610257  1564029816    246\n",
       "1         MainScreenAppear  7416695313311560658  1564053102    246\n",
       "2  PaymentScreenSuccessful  3518123091307005509  1564054127    248\n",
       "3         CartScreenAppear  3518123091307005509  1564054127    248\n",
       "4  PaymentScreenSuccessful  6217807653094995999  1564055322    248"
      ]
     },
     "execution_count": 5,
     "metadata": {},
     "output_type": "execute_result"
    }
   ],
   "source": [
    "# Renombrar columnas\n",
    "\n",
    "registros.columns = ['event_name', 'user_id', 'event_time', 'group']\n",
    "\n",
    "registros.head()"
   ]
  },
  {
   "cell_type": "markdown",
   "metadata": {},
   "source": [
    "Se cambio el nombre de las columnas a nombres que fueran más descriptivos y que se pudieran comprender facilmente. Los nombres de las nuevas columnas son 'event_name', 'user_id', 'event_time', 'group' reemplazando los nombres anteriores 'EventName', 'DeviceIDHash', 'EventTimestamp', 'ExpId' respectivamente."
   ]
  },
  {
   "cell_type": "markdown",
   "metadata": {},
   "source": [
    "### **2.2. Comprueba los tipos de datos y valores ausentes. Corrige los datos si es necesario**"
   ]
  },
  {
   "cell_type": "code",
   "execution_count": 6,
   "metadata": {},
   "outputs": [
    {
     "data": {
      "text/plain": [
       "event_name    0\n",
       "user_id       0\n",
       "event_time    0\n",
       "group         0\n",
       "dtype: int64"
      ]
     },
     "execution_count": 6,
     "metadata": {},
     "output_type": "execute_result"
    }
   ],
   "source": [
    "# Comprobar los valores ausentes\n",
    "\n",
    "registros.isnull().sum()"
   ]
  },
  {
   "cell_type": "markdown",
   "metadata": {},
   "source": [
    "Se puede comprobar que en el DataFrame 'registros' no se encuentran valores ausentes en ninguga de sus columnas. Esto de igual manera se comentó anteriormente en el analisis de lectura de datos."
   ]
  },
  {
   "cell_type": "code",
   "execution_count": 7,
   "metadata": {},
   "outputs": [
    {
     "name": "stdout",
     "output_type": "stream",
     "text": [
      "<class 'pandas.core.frame.DataFrame'>\n",
      "RangeIndex: 244126 entries, 0 to 244125\n",
      "Data columns (total 4 columns):\n",
      " #   Column      Non-Null Count   Dtype \n",
      "---  ------      --------------   ----- \n",
      " 0   event_name  244126 non-null  object\n",
      " 1   user_id     244126 non-null  int64 \n",
      " 2   event_time  244126 non-null  int64 \n",
      " 3   group       244126 non-null  int64 \n",
      "dtypes: int64(3), object(1)\n",
      "memory usage: 7.5+ MB\n"
     ]
    }
   ],
   "source": [
    "# Analizando el tipo de datos\n",
    "\n",
    "registros.info()"
   ]
  },
  {
   "cell_type": "markdown",
   "metadata": {},
   "source": [
    "En cuanto al tipo de datos ya se comentó anteriormente en el punto de la lectura de datos. Es necesario realizar el cambio de tipo de datos de la columna 'event_time' de object a datetime, este cambio se realizará en el siguiente punto.\n",
    "    "
   ]
  },
  {
   "cell_type": "markdown",
   "metadata": {},
   "source": [
    "### **2.3. Agrega una columna de fecha y hora y una columna separada para las fechas**"
   ]
  },
  {
   "cell_type": "code",
   "execution_count": 8,
   "metadata": {},
   "outputs": [
    {
     "data": {
      "text/html": [
       "<div>\n",
       "<style scoped>\n",
       "    .dataframe tbody tr th:only-of-type {\n",
       "        vertical-align: middle;\n",
       "    }\n",
       "\n",
       "    .dataframe tbody tr th {\n",
       "        vertical-align: top;\n",
       "    }\n",
       "\n",
       "    .dataframe thead th {\n",
       "        text-align: right;\n",
       "    }\n",
       "</style>\n",
       "<table border=\"1\" class=\"dataframe\">\n",
       "  <thead>\n",
       "    <tr style=\"text-align: right;\">\n",
       "      <th></th>\n",
       "      <th>event_name</th>\n",
       "      <th>user_id</th>\n",
       "      <th>event_time</th>\n",
       "      <th>group</th>\n",
       "      <th>event_date</th>\n",
       "    </tr>\n",
       "  </thead>\n",
       "  <tbody>\n",
       "    <tr>\n",
       "      <th>0</th>\n",
       "      <td>MainScreenAppear</td>\n",
       "      <td>4575588528974610257</td>\n",
       "      <td>2019-07-25 04:43:36</td>\n",
       "      <td>246</td>\n",
       "      <td>2019-07-25</td>\n",
       "    </tr>\n",
       "    <tr>\n",
       "      <th>1</th>\n",
       "      <td>MainScreenAppear</td>\n",
       "      <td>7416695313311560658</td>\n",
       "      <td>2019-07-25 11:11:42</td>\n",
       "      <td>246</td>\n",
       "      <td>2019-07-25</td>\n",
       "    </tr>\n",
       "    <tr>\n",
       "      <th>2</th>\n",
       "      <td>PaymentScreenSuccessful</td>\n",
       "      <td>3518123091307005509</td>\n",
       "      <td>2019-07-25 11:28:47</td>\n",
       "      <td>248</td>\n",
       "      <td>2019-07-25</td>\n",
       "    </tr>\n",
       "    <tr>\n",
       "      <th>3</th>\n",
       "      <td>CartScreenAppear</td>\n",
       "      <td>3518123091307005509</td>\n",
       "      <td>2019-07-25 11:28:47</td>\n",
       "      <td>248</td>\n",
       "      <td>2019-07-25</td>\n",
       "    </tr>\n",
       "    <tr>\n",
       "      <th>4</th>\n",
       "      <td>PaymentScreenSuccessful</td>\n",
       "      <td>6217807653094995999</td>\n",
       "      <td>2019-07-25 11:48:42</td>\n",
       "      <td>248</td>\n",
       "      <td>2019-07-25</td>\n",
       "    </tr>\n",
       "  </tbody>\n",
       "</table>\n",
       "</div>"
      ],
      "text/plain": [
       "                event_name              user_id          event_time  group  \\\n",
       "0         MainScreenAppear  4575588528974610257 2019-07-25 04:43:36    246   \n",
       "1         MainScreenAppear  7416695313311560658 2019-07-25 11:11:42    246   \n",
       "2  PaymentScreenSuccessful  3518123091307005509 2019-07-25 11:28:47    248   \n",
       "3         CartScreenAppear  3518123091307005509 2019-07-25 11:28:47    248   \n",
       "4  PaymentScreenSuccessful  6217807653094995999 2019-07-25 11:48:42    248   \n",
       "\n",
       "   event_date  \n",
       "0  2019-07-25  \n",
       "1  2019-07-25  \n",
       "2  2019-07-25  \n",
       "3  2019-07-25  \n",
       "4  2019-07-25  "
      ]
     },
     "execution_count": 8,
     "metadata": {},
     "output_type": "execute_result"
    }
   ],
   "source": [
    "registros['event_time'] = pd.to_datetime(registros['event_time'], unit='s')\n",
    "\n",
    "registros['event_date'] = registros['event_time'].dt.date\n",
    "\n",
    "registros.head()"
   ]
  },
  {
   "cell_type": "markdown",
   "metadata": {},
   "source": [
    "Se realizó el cambio del tipo de datos de la columna 'event_time' de object a date time. Además, se creo una nueva columna con la fecha separada que incluye año, mes y día."
   ]
  },
  {
   "cell_type": "markdown",
   "metadata": {},
   "source": [
    "<div class=\"alert alert-block alert-success\">  \n",
    "<b>Comentario del revisor</b> <a class=\"tocSkip\"></a><br>  \n",
    "<b>Éxito</b> - Muy buen manejo en esta etapa: validaste correctamente los valores nulos, confirmaste los tipos de datos y transformaste exitosamente las marcas de tiempo en formato `datetime`, incluyendo una columna adicional para la fecha. Esto facilita mucho los análisis posteriores por día. Excelente progreso. </div>\n"
   ]
  },
  {
   "cell_type": "markdown",
   "metadata": {},
   "source": [
    "## **Paso 3.  Estudiar y comprobar los datos**"
   ]
  },
  {
   "cell_type": "markdown",
   "metadata": {},
   "source": [
    "### **3.1. ¿Cuántos eventos hay en los registros?**"
   ]
  },
  {
   "cell_type": "code",
   "execution_count": 9,
   "metadata": {},
   "outputs": [
    {
     "name": "stdout",
     "output_type": "stream",
     "text": [
      "La cantidad total de eventos en el DataFrame 'registros' es: 244126\n"
     ]
    }
   ],
   "source": [
    "# Encontrar la cantidad de eventos que hay en el DataFrame de 'registros'\n",
    "\n",
    "cantidad_eventos = registros.shape[0]\n",
    "\n",
    "print(f\"La cantidad total de eventos en el DataFrame 'registros' es: {cantidad_eventos}\")"
   ]
  },
  {
   "cell_type": "markdown",
   "metadata": {},
   "source": [
    "### **3.2. ¿Cuántos usuarios hay en los registros?**"
   ]
  },
  {
   "cell_type": "code",
   "execution_count": 10,
   "metadata": {},
   "outputs": [
    {
     "name": "stdout",
     "output_type": "stream",
     "text": [
      "La cantidad total de usuarios en el DataFrame 'registros' es: 7551\n"
     ]
    }
   ],
   "source": [
    "# Encontrar la cantidad de usuarios que hay en el dataFrame 'registros'\n",
    "\n",
    "cantidad_usuarios = registros['user_id'].nunique()\n",
    "\n",
    "print(f\"La cantidad total de usuarios en el DataFrame 'registros' es: {cantidad_usuarios}\")"
   ]
  },
  {
   "cell_type": "markdown",
   "metadata": {},
   "source": [
    "### **3.3. ¿Cuál es el promedio de eventos por usuario?**"
   ]
  },
  {
   "cell_type": "code",
   "execution_count": 11,
   "metadata": {},
   "outputs": [
    {
     "name": "stdout",
     "output_type": "stream",
     "text": [
      "El promedio de eventos por usuario es de: 32.33\n"
     ]
    }
   ],
   "source": [
    "# Calcular el promedio de eventos por usuario\n",
    "\n",
    "promedio_evento_usuario = round(cantidad_eventos / cantidad_usuarios, 2)\n",
    "\n",
    "print(f\"El promedio de eventos por usuario es de: {promedio_evento_usuario}\")"
   ]
  },
  {
   "cell_type": "markdown",
   "metadata": {},
   "source": [
    "### **3.4. ¿Qué periodo de tiempo cubren los datos?**"
   ]
  },
  {
   "cell_type": "markdown",
   "metadata": {},
   "source": [
    "Encuentra la fecha máxima y mínima. Traza un histograma por fecha y hora. ¿Puedes tener seguridad de que tienes datos igualmente completos para todo el periodo? Los eventos más antiguos podrían terminar en los registros de algunos usuarios por razones técnicas y esto podría sesgar el panorama general. Encuentra el momento en el que los datos comienzan a estar completos e ignora la sección anterior. ¿Qué periodo representan realmente los datos?"
   ]
  },
  {
   "cell_type": "code",
   "execution_count": 12,
   "metadata": {},
   "outputs": [
    {
     "name": "stdout",
     "output_type": "stream",
     "text": [
      "La fecha de inicio de los eventos es: 2019-07-25\n",
      "La fecha final de los eventos es: 2019-08-07\n"
     ]
    }
   ],
   "source": [
    "# Encontrar la fecha mínima y máxima de los eventos\n",
    "\n",
    "fecha_inicio = registros['event_date'].min()\n",
    "\n",
    "fecha_final = registros['event_date'].max()\n",
    "\n",
    "print('La fecha de inicio de los eventos es:', fecha_inicio)\n",
    "print('La fecha final de los eventos es:', fecha_final)"
   ]
  },
  {
   "cell_type": "code",
   "execution_count": 13,
   "metadata": {},
   "outputs": [
    {
     "data": {
      "image/png": "[encoded data removed]",
      "text/plain": [
       "<Figure size 1200x600 with 1 Axes>"
      ]
     },
     "metadata": {},
     "output_type": "display_data"
    }
   ],
   "source": [
    "# Graficar un histograma por fecha y hora\n",
    "\n",
    "eventos_por_fecha = registros.groupby('event_date').agg(total_eventos=('event_date', 'count'))\n",
    "\n",
    "plt.figure(figsize=(12, 6))\n",
    "\n",
    "eventos_por_fecha['total_eventos'].plot(kind='bar')\n",
    "plt.title('Distribución de eventos por fecha')\n",
    "plt.xlabel('Fecha (días)')\n",
    "plt.ylabel('Número de eventos')\n",
    "plt.xticks(rotation=45) \n",
    "plt.grid(axis='y', linestyle='--', alpha=0.7)\n",
    "plt.tight_layout() \n",
    "\n",
    "plt.show()"
   ]
  },
  {
   "cell_type": "code",
   "execution_count": 14,
   "metadata": {},
   "outputs": [
    {
     "name": "stdout",
     "output_type": "stream",
     "text": [
      "2019-07-25        9\n",
      "2019-07-26       31\n",
      "2019-07-27       55\n",
      "2019-07-28      105\n",
      "2019-07-29      184\n",
      "2019-07-30      413\n",
      "2019-07-31     2031\n",
      "2019-08-01    36229\n",
      "2019-08-02    35606\n",
      "2019-08-03    33351\n",
      "2019-08-04    33033\n",
      "2019-08-05    36113\n",
      "2019-08-06    35822\n",
      "2019-08-07    31144\n",
      "Name: event_date, dtype: int64\n"
     ]
    }
   ],
   "source": [
    "# Contamor los eventos por fecha \n",
    "\n",
    "eventos_por_dia = registros['event_date'].value_counts().sort_index()\n",
    "\n",
    "print(eventos_por_dia)"
   ]
  },
  {
   "cell_type": "markdown",
   "metadata": {},
   "source": [
    "Al inicio de los registros de datos, concretamente, entre los días 25 de julio y 31 de julio, los registros recopilados son muy pocos, presentando para el día 25 de julio 0 registros y para el 31 de julio un aproximado de 2000 eventos. \n",
    "\n",
    "Se observa notablemente, que a partir del 1 de agosto la cantidad de registros asciende por encima de 35000 eventos fluctuando en los siguientes días hasta 31000 aproximadamente para el último día de actividad el 7 de agosto.\n",
    "\n",
    "Es muy posible, que no se haya registrado la información completa para los días de julio y que parte de la información de estos primeros días haya quedado registrada en los días de agosto. Por lo tanto, los datos se empiezan a registrar completos es a partir del día 1 de agosto hasta el final de los registros el 7 de agosto."
   ]
  },
  {
   "cell_type": "markdown",
   "metadata": {},
   "source": [
    "### **3.5. ¿Perdiste muchos eventos y usuarios al excluir los datos más antiguos?**"
   ]
  },
  {
   "cell_type": "code",
   "execution_count": 15,
   "metadata": {},
   "outputs": [
    {
     "data": {
      "text/html": [
       "<div>\n",
       "<style scoped>\n",
       "    .dataframe tbody tr th:only-of-type {\n",
       "        vertical-align: middle;\n",
       "    }\n",
       "\n",
       "    .dataframe tbody tr th {\n",
       "        vertical-align: top;\n",
       "    }\n",
       "\n",
       "    .dataframe thead th {\n",
       "        text-align: right;\n",
       "    }\n",
       "</style>\n",
       "<table border=\"1\" class=\"dataframe\">\n",
       "  <thead>\n",
       "    <tr style=\"text-align: right;\">\n",
       "      <th></th>\n",
       "      <th>event_name</th>\n",
       "      <th>user_id</th>\n",
       "      <th>event_time</th>\n",
       "      <th>group</th>\n",
       "      <th>event_date</th>\n",
       "    </tr>\n",
       "  </thead>\n",
       "  <tbody>\n",
       "    <tr>\n",
       "      <th>2828</th>\n",
       "      <td>Tutorial</td>\n",
       "      <td>3737462046622621720</td>\n",
       "      <td>2019-08-01 00:07:28</td>\n",
       "      <td>246</td>\n",
       "      <td>2019-08-01</td>\n",
       "    </tr>\n",
       "    <tr>\n",
       "      <th>2829</th>\n",
       "      <td>MainScreenAppear</td>\n",
       "      <td>3737462046622621720</td>\n",
       "      <td>2019-08-01 00:08:00</td>\n",
       "      <td>246</td>\n",
       "      <td>2019-08-01</td>\n",
       "    </tr>\n",
       "    <tr>\n",
       "      <th>2830</th>\n",
       "      <td>MainScreenAppear</td>\n",
       "      <td>3737462046622621720</td>\n",
       "      <td>2019-08-01 00:08:55</td>\n",
       "      <td>246</td>\n",
       "      <td>2019-08-01</td>\n",
       "    </tr>\n",
       "    <tr>\n",
       "      <th>2831</th>\n",
       "      <td>OffersScreenAppear</td>\n",
       "      <td>3737462046622621720</td>\n",
       "      <td>2019-08-01 00:08:58</td>\n",
       "      <td>246</td>\n",
       "      <td>2019-08-01</td>\n",
       "    </tr>\n",
       "    <tr>\n",
       "      <th>2832</th>\n",
       "      <td>MainScreenAppear</td>\n",
       "      <td>1433840883824088890</td>\n",
       "      <td>2019-08-01 00:08:59</td>\n",
       "      <td>247</td>\n",
       "      <td>2019-08-01</td>\n",
       "    </tr>\n",
       "  </tbody>\n",
       "</table>\n",
       "</div>"
      ],
      "text/plain": [
       "              event_name              user_id          event_time  group  \\\n",
       "2828            Tutorial  3737462046622621720 2019-08-01 00:07:28    246   \n",
       "2829    MainScreenAppear  3737462046622621720 2019-08-01 00:08:00    246   \n",
       "2830    MainScreenAppear  3737462046622621720 2019-08-01 00:08:55    246   \n",
       "2831  OffersScreenAppear  3737462046622621720 2019-08-01 00:08:58    246   \n",
       "2832    MainScreenAppear  1433840883824088890 2019-08-01 00:08:59    247   \n",
       "\n",
       "      event_date  \n",
       "2828  2019-08-01  \n",
       "2829  2019-08-01  \n",
       "2830  2019-08-01  \n",
       "2831  2019-08-01  \n",
       "2832  2019-08-01  "
      ]
     },
     "execution_count": 15,
     "metadata": {},
     "output_type": "execute_result"
    }
   ],
   "source": [
    "# Filtrar los datos a partir del 1 de agosto\n",
    "\n",
    "fecha_de_corte = pd.to_datetime('2019-08-01').date()\n",
    "\n",
    "registros_filtrados = registros[registros['event_date'] >= fecha_de_corte]\n",
    "\n",
    "registros_filtrados.head()"
   ]
  },
  {
   "cell_type": "code",
   "execution_count": 16,
   "metadata": {},
   "outputs": [
    {
     "name": "stdout",
     "output_type": "stream",
     "text": [
      "La cantidad total de eventos filtrados es: 241298\n",
      "La cantidad total de usuarios filtrados es: 7534\n"
     ]
    }
   ],
   "source": [
    "# Encontrar la cantidad de eventos y usuarios después del filtrado \n",
    "\n",
    "eventos_filtrados = registros_filtrados.shape[0]\n",
    "\n",
    "usuarios_filtrados = registros_filtrados['user_id'].nunique()\n",
    "\n",
    "print(f\"La cantidad total de eventos filtrados es: {eventos_filtrados}\")\n",
    "\n",
    "print(f\"La cantidad total de usuarios filtrados es: {usuarios_filtrados}\")\n"
   ]
  },
  {
   "cell_type": "code",
   "execution_count": 17,
   "metadata": {},
   "outputs": [
    {
     "name": "stdout",
     "output_type": "stream",
     "text": [
      "La cantidad total de eventos excluidos es: 2828\n",
      "El porcentaje eventos excluidos es: 1.16\n"
     ]
    }
   ],
   "source": [
    "# Encontrar la cantidad de eventos excluidos\n",
    "\n",
    "eventos_excluidos = cantidad_eventos - eventos_filtrados\n",
    "\n",
    "porcentaje_eventos_excluidos = round((eventos_excluidos / cantidad_eventos) * 100, 2)\n",
    "\n",
    "print(f\"La cantidad total de eventos excluidos es: {eventos_excluidos}\")\n",
    "\n",
    "print(f\"El porcentaje eventos excluidos es: {porcentaje_eventos_excluidos}\")    \n"
   ]
  },
  {
   "cell_type": "code",
   "execution_count": 18,
   "metadata": {},
   "outputs": [
    {
     "name": "stdout",
     "output_type": "stream",
     "text": [
      "La cantidad total de usuarios excluidos es: 17\n",
      "El porcentaje usuarios excluidos es: 0.23\n"
     ]
    }
   ],
   "source": [
    "# Encontrar la cantidad de usuarios excluidos\n",
    "\n",
    "usuarios_excluidos = cantidad_usuarios - usuarios_filtrados\n",
    "\n",
    "porcentaje_usuarios_excluidos = round((usuarios_excluidos / cantidad_usuarios) * 100, 2)\n",
    "\n",
    "print(f\"La cantidad total de usuarios excluidos es: {usuarios_excluidos}\")\n",
    "\n",
    "print(f\"El porcentaje usuarios excluidos es: {porcentaje_usuarios_excluidos}\") \n"
   ]
  },
  {
   "cell_type": "markdown",
   "metadata": {},
   "source": [
    "Se realizó un filtrado de los datos excluyendo los datos del 27 al 31 de julio. Por lo tanto, el DataFrame obtenido 'registros_filtrados' considera los datos del 1 al 7 de agosto.\n",
    "\n",
    "La cantidad de eventos excluidos fue de 2828, inicialmente se tenían 244126 eventos, después del filtrado se tienen 241298. El porcentaje de eventos excluidos es de 1.16%.\n",
    "\n",
    "En cuanto a los usuarios excluidos fueron 17 usuarios, inicialmente se tenían 7551 usuarios, después del filtrado se tienen 7534 usuarios. El porcentaje de usuarios excluidos es de 0.23%."
   ]
  },
  {
   "cell_type": "markdown",
   "metadata": {},
   "source": [
    "### **3.6. Asegúrate de tener usuarios de los tres grupos experimentales**"
   ]
  },
  {
   "cell_type": "code",
   "execution_count": 19,
   "metadata": {},
   "outputs": [
    {
     "data": {
      "text/plain": [
       "group\n",
       "246    2484\n",
       "247    2513\n",
       "248    2537\n",
       "Name: user_id, dtype: int64"
      ]
     },
     "execution_count": 19,
     "metadata": {},
     "output_type": "execute_result"
    }
   ],
   "source": [
    "# Encontrar la cantidad de usuarios por grupo después del filtrado\n",
    "\n",
    "usuarios_por_grupo = registros_filtrados.groupby('group')['user_id'].nunique()\n",
    "\n",
    "usuarios_por_grupo"
   ]
  },
  {
   "cell_type": "markdown",
   "metadata": {},
   "source": [
    "Las cantidades de usuarios por cada grupo, son las siguientes:\n",
    "- Grupo 246, cuenta con 2484 usuarios.\n",
    "- Grupo 247, cuenta con 2513 usuarios.\n",
    "- Grupo 248, cuenta con 2537 usuarios."
   ]
  },
  {
   "cell_type": "markdown",
   "metadata": {},
   "source": [
    "<div class=\"alert alert-block alert-success\">  \n",
    "<b>Comentario del revisor</b> <a class=\"tocSkip\"></a><br>  \n",
    "<b>Éxito</b> - Muy completo y bien estructurado tu análisis inicial. Calculaste correctamente las métricas clave, analizaste la distribución temporal con apoyo gráfico y filtraste el periodo útil con un buen criterio técnico. Además, verificaste la representatividad de los tres grupos experimentales tras el filtrado. Muy buen trabajo en esta sección. </div>\n"
   ]
  },
  {
   "cell_type": "markdown",
   "metadata": {},
   "source": [
    "## **Paso 4. Estudiar el embudo de eventos**"
   ]
  },
  {
   "cell_type": "markdown",
   "metadata": {},
   "source": [
    "### **4.1. Observa qué eventos hay en los registros y su frecuencia de suceso. Ordénalos por frecuencia**"
   ]
  },
  {
   "cell_type": "code",
   "execution_count": 20,
   "metadata": {},
   "outputs": [
    {
     "data": {
      "text/plain": [
       "MainScreenAppear           117431\n",
       "OffersScreenAppear          46350\n",
       "CartScreenAppear            42365\n",
       "PaymentScreenSuccessful     34113\n",
       "Tutorial                     1039\n",
       "Name: event_name, dtype: int64"
      ]
     },
     "execution_count": 20,
     "metadata": {},
     "output_type": "execute_result"
    }
   ],
   "source": [
    "# Obtener la frecuencia de cada evento\n",
    "\n",
    "frecuencia_eventos = registros_filtrados['event_name'].value_counts()\n",
    "\n",
    "frecuencia_eventos"
   ]
  },
  {
   "cell_type": "code",
   "execution_count": 21,
   "metadata": {},
   "outputs": [
    {
     "data": {
      "image/png": "[encoded data removed]",
      "text/plain": [
       "<Figure size 1000x600 with 1 Axes>"
      ]
     },
     "metadata": {},
     "output_type": "display_data"
    }
   ],
   "source": [
    "# Graficar la frecuencia de eventos\n",
    "\n",
    "plt.figure(figsize=(10, 6))\n",
    "\n",
    "frecuencia_eventos.plot(kind='bar')\n",
    "\n",
    "plt.title('Frecuencia de cada evento')\n",
    "plt.xlabel('Nombre del evento')\n",
    "plt.ylabel('Número de ')\n",
    "plt.xticks(rotation=45, ha='right') \n",
    "plt.grid(axis='y', linestyle='--', alpha=0.7)\n",
    "plt.tight_layout()\n",
    "\n",
    "plt.show()\n"
   ]
  },
  {
   "cell_type": "markdown",
   "metadata": {},
   "source": [
    "Como era de esperarse, la frecuencia de eventos va de mayor a menor que es el comportamiento esperado en un embudo de ventas. El evento que presenta mayor frecuencia es de la página principal, seguido por la página de ofertas, luego la página del carrito y por último la página de pago exitoso (confirmación de la compra realizada por cada usuario).\n",
    "En cuanto a la página del tutorial se puede considerar que más que ser parte del embudo de ventas, es una página que puede funcionar más como información para el usuario. Se puede comprobar tanto en la tabla de frecuencia_eventos como en la gráfica que no es muy frecuentada, por lo que no es necesario considerarla como parte del analisis del embudo de ventas."
   ]
  },
  {
   "cell_type": "markdown",
   "metadata": {},
   "source": [
    "### **4.2. Encuentra la cantidad de usuarios que realizaron cada una de estas acciones. Ordena los eventos por el número de usuarios. Calcula la proporción de usuarios que realizaron la acción al menos una vez**"
   ]
  },
  {
   "cell_type": "code",
   "execution_count": 22,
   "metadata": {},
   "outputs": [
    {
     "data": {
      "text/html": [
       "<div>\n",
       "<style scoped>\n",
       "    .dataframe tbody tr th:only-of-type {\n",
       "        vertical-align: middle;\n",
       "    }\n",
       "\n",
       "    .dataframe tbody tr th {\n",
       "        vertical-align: top;\n",
       "    }\n",
       "\n",
       "    .dataframe thead th {\n",
       "        text-align: right;\n",
       "    }\n",
       "</style>\n",
       "<table border=\"1\" class=\"dataframe\">\n",
       "  <thead>\n",
       "    <tr style=\"text-align: right;\">\n",
       "      <th></th>\n",
       "      <th>usuarios_unicos</th>\n",
       "    </tr>\n",
       "    <tr>\n",
       "      <th>event_name</th>\n",
       "      <th></th>\n",
       "    </tr>\n",
       "  </thead>\n",
       "  <tbody>\n",
       "    <tr>\n",
       "      <th>MainScreenAppear</th>\n",
       "      <td>7419</td>\n",
       "    </tr>\n",
       "    <tr>\n",
       "      <th>OffersScreenAppear</th>\n",
       "      <td>4593</td>\n",
       "    </tr>\n",
       "    <tr>\n",
       "      <th>CartScreenAppear</th>\n",
       "      <td>3734</td>\n",
       "    </tr>\n",
       "    <tr>\n",
       "      <th>PaymentScreenSuccessful</th>\n",
       "      <td>3539</td>\n",
       "    </tr>\n",
       "    <tr>\n",
       "      <th>Tutorial</th>\n",
       "      <td>840</td>\n",
       "    </tr>\n",
       "  </tbody>\n",
       "</table>\n",
       "</div>"
      ],
      "text/plain": [
       "                         usuarios_unicos\n",
       "event_name                              \n",
       "MainScreenAppear                    7419\n",
       "OffersScreenAppear                  4593\n",
       "CartScreenAppear                    3734\n",
       "PaymentScreenSuccessful             3539\n",
       "Tutorial                             840"
      ]
     },
     "execution_count": 22,
     "metadata": {},
     "output_type": "execute_result"
    }
   ],
   "source": [
    "# Encontrar los usuarios únicos para cada evento\n",
    "\n",
    "usuarios_por_evento = registros_filtrados.groupby('event_name').agg(\n",
    "    usuarios_unicos=('user_id', 'nunique')\n",
    ").sort_values(by='usuarios_unicos', ascending=False) \n",
    "\n",
    "usuarios_por_evento"
   ]
  },
  {
   "cell_type": "code",
   "execution_count": 23,
   "metadata": {},
   "outputs": [
    {
     "data": {
      "text/html": [
       "<div>\n",
       "<style scoped>\n",
       "    .dataframe tbody tr th:only-of-type {\n",
       "        vertical-align: middle;\n",
       "    }\n",
       "\n",
       "    .dataframe tbody tr th {\n",
       "        vertical-align: top;\n",
       "    }\n",
       "\n",
       "    .dataframe thead th {\n",
       "        text-align: right;\n",
       "    }\n",
       "</style>\n",
       "<table border=\"1\" class=\"dataframe\">\n",
       "  <thead>\n",
       "    <tr style=\"text-align: right;\">\n",
       "      <th></th>\n",
       "      <th>usuarios_unicos</th>\n",
       "      <th>proporcion</th>\n",
       "    </tr>\n",
       "    <tr>\n",
       "      <th>event_name</th>\n",
       "      <th></th>\n",
       "      <th></th>\n",
       "    </tr>\n",
       "  </thead>\n",
       "  <tbody>\n",
       "    <tr>\n",
       "      <th>MainScreenAppear</th>\n",
       "      <td>7419</td>\n",
       "      <td>98.473586</td>\n",
       "    </tr>\n",
       "    <tr>\n",
       "      <th>OffersScreenAppear</th>\n",
       "      <td>4593</td>\n",
       "      <td>60.963632</td>\n",
       "    </tr>\n",
       "    <tr>\n",
       "      <th>CartScreenAppear</th>\n",
       "      <td>3734</td>\n",
       "      <td>49.561986</td>\n",
       "    </tr>\n",
       "    <tr>\n",
       "      <th>PaymentScreenSuccessful</th>\n",
       "      <td>3539</td>\n",
       "      <td>46.973719</td>\n",
       "    </tr>\n",
       "    <tr>\n",
       "      <th>Tutorial</th>\n",
       "      <td>840</td>\n",
       "      <td>11.149456</td>\n",
       "    </tr>\n",
       "  </tbody>\n",
       "</table>\n",
       "</div>"
      ],
      "text/plain": [
       "                         usuarios_unicos  proporcion\n",
       "event_name                                          \n",
       "MainScreenAppear                    7419   98.473586\n",
       "OffersScreenAppear                  4593   60.963632\n",
       "CartScreenAppear                    3734   49.561986\n",
       "PaymentScreenSuccessful             3539   46.973719\n",
       "Tutorial                             840   11.149456"
      ]
     },
     "execution_count": 23,
     "metadata": {},
     "output_type": "execute_result"
    }
   ],
   "source": [
    "# Calcular la proporción de cada evento \n",
    "\n",
    "usuarios_por_evento['proporcion'] = (usuarios_por_evento['usuarios_unicos'] / usuarios_filtrados) * 100\n",
    "\n",
    "usuarios_por_evento"
   ]
  },
  {
   "cell_type": "markdown",
   "metadata": {},
   "source": [
    "En estos dos últimos puntos del DataFrame de registros_filtrados se obtienen el número de ususarios por evento y el porcentaje de cada evento con base en el total de usuarios de cada etapa y del total de usuarios ya filtrados."
   ]
  },
  {
   "cell_type": "markdown",
   "metadata": {},
   "source": [
    "### **4.3. ¿En qué orden crees que ocurrieron las acciones? ¿Todas son parte de una sola secuencia? No es necesario tenerlas en cuenta al calcular el embudo**"
   ]
  },
  {
   "cell_type": "markdown",
   "metadata": {},
   "source": [
    "1. MainScreenAppear (Aparce la pantalla principal)\n",
    "Es la entrada a la página principal de la empresa de procustos alimenticios. Se entiende como la página principal, página de inicio a la que acceden todos los usuarios, antes de realizar cualquier otra acción.\n",
    "\n",
    "2. OffersScreenAppear (Aparece la pantalla de ofertas)\n",
    "Luego de acceder a la pantalla princial de la aplicación, los usuarios entran a la página de ofertas de los alimentos para explorar los productos de su interes, analizar las ofertas y decidir si quieren pasar a la siguiente etapa.\n",
    "\n",
    "3. CartScreenAppear (Aparece la pantalla del carrito)\n",
    "Luego de analizar en la página de ofertas los productos con descuentos u ofertas, los usuarios agregan al carrito los productos de interes y las cantidades de cada producto. Así se muestra la intención de compra.\n",
    "\n",
    "4. PaymentScreenSuccessful (Pantalla de pago exitoso)\n",
    "En esta pantalla se registra el pago exitoso de los productos añdidos al carrito, que se exploraron en la página de ofertas después de entrar a la página de inicio, por lo tanto es el evento final de la secuancia.\n",
    "\n",
    "Tutorial\n",
    "De acuerdo a la cantidad de usuarios que entraron a esta página, se puede concluir que son relativamente pocos los usuarios, alrededor de un 10% de ellos que entrar a ver la forma de como seguir la secuencia de acciones de la aplicación para realizar una compra. Este evento puede estar al incio de toda esta secuencia, sin embargo al ser poco el porcentaje de usuarios que realizan esta acción, se podrí excluir de la secuencia de eventos ya que no es una etapa importante para el embudo de compras o que represente una conversión de los usuarios en el proceso de compras.\n",
    "\n",
    "Todas las acciones desde Tutorial, pasando por MainScreenAppearOffersScreenAppear, CartScreenAppear, PaymentScreenSuccessful hacen parte de una sola secuencia. Sin embargo, como se comento en el párrafo anterior, la acción de Tutorial se podría excluir porque no representa una conversión en la compra, además del total de usuario de la aplicación son muy pocos los que realizan esta acción."
   ]
  },
  {
   "cell_type": "markdown",
   "metadata": {},
   "source": [
    "#### **4.4. Utiliza el embudo de eventos para encontrar la proporción de usuarios que pasan de una etapa a la siguiente. Por ejemplo, para la secuencia de eventos A → B → C, calcula la proporción de usuarios en la etapa B a la cantidad de usuarios en la etapa A y la proporción de usuarios en la etapa C a la cantidad en la etapa B**"
   ]
  },
  {
   "cell_type": "code",
   "execution_count": 24,
   "metadata": {},
   "outputs": [
    {
     "data": {
      "text/plain": [
       "event_name\n",
       "Tutorial                    840\n",
       "PaymentScreenSuccessful    3539\n",
       "CartScreenAppear           3734\n",
       "OffersScreenAppear         4593\n",
       "MainScreenAppear           7419\n",
       "Name: user_id, dtype: int64"
      ]
     },
     "execution_count": 24,
     "metadata": {},
     "output_type": "execute_result"
    }
   ],
   "source": [
    "# Calcular el número de usuarios únicos en cada etapa\n",
    "\n",
    "usuarios_por_etapa = registros_filtrados.groupby('event_name')['user_id'].nunique().sort_values()\n",
    "\n",
    "usuarios_por_etapa"
   ]
  },
  {
   "cell_type": "code",
   "execution_count": 25,
   "metadata": {},
   "outputs": [
    {
     "data": {
      "text/html": [
       "<div>\n",
       "<style scoped>\n",
       "    .dataframe tbody tr th:only-of-type {\n",
       "        vertical-align: middle;\n",
       "    }\n",
       "\n",
       "    .dataframe tbody tr th {\n",
       "        vertical-align: top;\n",
       "    }\n",
       "\n",
       "    .dataframe thead th {\n",
       "        text-align: right;\n",
       "    }\n",
       "</style>\n",
       "<table border=\"1\" class=\"dataframe\">\n",
       "  <thead>\n",
       "    <tr style=\"text-align: right;\">\n",
       "      <th></th>\n",
       "      <th>usuarios_unicos</th>\n",
       "    </tr>\n",
       "    <tr>\n",
       "      <th>event_name</th>\n",
       "      <th></th>\n",
       "    </tr>\n",
       "  </thead>\n",
       "  <tbody>\n",
       "    <tr>\n",
       "      <th>MainScreenAppear</th>\n",
       "      <td>7419</td>\n",
       "    </tr>\n",
       "    <tr>\n",
       "      <th>OffersScreenAppear</th>\n",
       "      <td>4593</td>\n",
       "    </tr>\n",
       "    <tr>\n",
       "      <th>CartScreenAppear</th>\n",
       "      <td>3734</td>\n",
       "    </tr>\n",
       "    <tr>\n",
       "      <th>PaymentScreenSuccessful</th>\n",
       "      <td>3539</td>\n",
       "    </tr>\n",
       "    <tr>\n",
       "      <th>Tutorial</th>\n",
       "      <td>840</td>\n",
       "    </tr>\n",
       "  </tbody>\n",
       "</table>\n",
       "</div>"
      ],
      "text/plain": [
       "                         usuarios_unicos\n",
       "event_name                              \n",
       "MainScreenAppear                    7419\n",
       "OffersScreenAppear                  4593\n",
       "CartScreenAppear                    3734\n",
       "PaymentScreenSuccessful             3539\n",
       "Tutorial                             840"
      ]
     },
     "execution_count": 25,
     "metadata": {},
     "output_type": "execute_result"
    }
   ],
   "source": [
    "# Crear un DataFrame para el embudo\n",
    "\n",
    "embudo_etapas = pd.DataFrame(usuarios_por_etapa)\n",
    "\n",
    "embudo_etapas.columns = ['usuarios_unicos']\n",
    "\n",
    "embudo_ordenado = embudo_etapas.sort_values(by='usuarios_unicos', ascending=False)\n",
    "\n",
    "embudo_ordenado"
   ]
  },
  {
   "cell_type": "code",
   "execution_count": 26,
   "metadata": {},
   "outputs": [
    {
     "data": {
      "text/html": [
       "<div>\n",
       "<style scoped>\n",
       "    .dataframe tbody tr th:only-of-type {\n",
       "        vertical-align: middle;\n",
       "    }\n",
       "\n",
       "    .dataframe tbody tr th {\n",
       "        vertical-align: top;\n",
       "    }\n",
       "\n",
       "    .dataframe thead th {\n",
       "        text-align: right;\n",
       "    }\n",
       "</style>\n",
       "<table border=\"1\" class=\"dataframe\">\n",
       "  <thead>\n",
       "    <tr style=\"text-align: right;\">\n",
       "      <th></th>\n",
       "      <th>usuarios_unicos</th>\n",
       "      <th>proporcion_paso</th>\n",
       "      <th>proporcion_acumulada</th>\n",
       "    </tr>\n",
       "    <tr>\n",
       "      <th>event_name</th>\n",
       "      <th></th>\n",
       "      <th></th>\n",
       "      <th></th>\n",
       "    </tr>\n",
       "  </thead>\n",
       "  <tbody>\n",
       "    <tr>\n",
       "      <th>MainScreenAppear</th>\n",
       "      <td>7419</td>\n",
       "      <td>100.0</td>\n",
       "      <td>100.0</td>\n",
       "    </tr>\n",
       "    <tr>\n",
       "      <th>OffersScreenAppear</th>\n",
       "      <td>4593</td>\n",
       "      <td>61.91</td>\n",
       "      <td>61.91</td>\n",
       "    </tr>\n",
       "    <tr>\n",
       "      <th>CartScreenAppear</th>\n",
       "      <td>3734</td>\n",
       "      <td>81.3</td>\n",
       "      <td>50.33</td>\n",
       "    </tr>\n",
       "    <tr>\n",
       "      <th>PaymentScreenSuccessful</th>\n",
       "      <td>3539</td>\n",
       "      <td>94.78</td>\n",
       "      <td>47.7</td>\n",
       "    </tr>\n",
       "    <tr>\n",
       "      <th>Tutorial</th>\n",
       "      <td>840</td>\n",
       "      <td>23.74</td>\n",
       "      <td>11.32</td>\n",
       "    </tr>\n",
       "  </tbody>\n",
       "</table>\n",
       "</div>"
      ],
      "text/plain": [
       "                         usuarios_unicos proporcion_paso proporcion_acumulada\n",
       "event_name                                                                   \n",
       "MainScreenAppear                    7419           100.0                100.0\n",
       "OffersScreenAppear                  4593           61.91                61.91\n",
       "CartScreenAppear                    3734            81.3                50.33\n",
       "PaymentScreenSuccessful             3539           94.78                 47.7\n",
       "Tutorial                             840           23.74                11.32"
      ]
     },
     "execution_count": 26,
     "metadata": {},
     "output_type": "execute_result"
    }
   ],
   "source": [
    "# Calcular la proporción de paso y la acumulada \n",
    "\n",
    "embudo_ordenado['proporcion_paso'] = (embudo_ordenado['usuarios_unicos'] / embudo_ordenado['usuarios_unicos'].shift(1)).fillna(1)\n",
    "\n",
    "embudo_ordenado['proporcion_acumulada'] = embudo_ordenado['usuarios_unicos'] / embudo_ordenado.iloc[0]['usuarios_unicos']\n",
    "\n",
    "\n",
    "# Mostrar el DataFrame con las proporciones\n",
    "\n",
    "embudo_ordenado['proporcion_paso'] = (embudo_ordenado['proporcion_paso'] * 100).round(2).astype(str)\n",
    "\n",
    "embudo_ordenado['proporcion_acumulada'] = (embudo_ordenado['proporcion_acumulada'] * 100).round(2).astype(str)\n",
    "\n",
    "embudo_ordenado"
   ]
  },
  {
   "cell_type": "markdown",
   "metadata": {},
   "source": [
    "Nuevamente se encontraron los usuarios unicos para cada etapa del embudo de ventas. Luego se creo un dataFrame llamado 'embudo_ordenado' donde se pueden visualizar las etapas del embudo con la cantidad de usuarios en cada una de ellas.\n",
    "Después se calculó la proporción de un paso al paso siguiente y también la proporción acumulada.\n",
    "\n",
    "De este DataFrame 'embudo_ordenado' se puede concluir lo siguiente:\n",
    "- La cantidad de usuarios que entran a la página principal para los días del 1 al 7 de agosto de 2019 es de 7419 usuarios únicos, representando el 100%.\n",
    "- La cantidad de usuarios que entran a la página de ofertas es de 4593 usuarios, representando el 61.91% del total de los usuarios que entran a la página principal.\n",
    "- La cantidad de usuarios que entran a la página del carrito es de 3734 usuarios, representando el 50.33% de la proporción acumulada del total de los usuarios. Con respecto a la etapa anterior, el 81.3% de los usuarios que entraron a la página de ofertas, continuaron a la página del carrito.\n",
    "- La cantidad de usuarios que presentaron un pago exitoso es de 3539 usuarios, representando el 47.33% de la proporción acumulada del total de los usuarios. Con respecto a la etapa anterior, el 94.78% de los usuarios que entraron a la página del carrito, continuaron a la página de pago."
   ]
  },
  {
   "cell_type": "markdown",
   "metadata": {},
   "source": [
    "### **4.5. ¿En qué etapa pierdes más usuarios?**"
   ]
  },
  {
   "cell_type": "markdown",
   "metadata": {},
   "source": [
    "De acuerdo a la tabla 'embudo_ordenado', se observa que en la etapa en la más usuarios se pierden es entre la página principal de la aplicación y la página de ofertas, debido a que del 100% que entraron a la página de inicio, el 61.91% de los usuarios entraron a la página de ofertas, perdiéndose casi el 40% de los usuarios.\n",
    "\n",
    "Esta pérdida de usuarios puede debeserse a que no encontraron los productos que requerian por no haber suficiente stock, por no estar disponibles para la compra o porque simplemente no les interesó las ofertas de productos que estaban disponibles para los días de este análisis."
   ]
  },
  {
   "cell_type": "markdown",
   "metadata": {},
   "source": [
    "### **4.6. ¿Qué porcentaje de usuarios hace todo el viaje desde su primer evento hasta el pago?**\n"
   ]
  },
  {
   "cell_type": "markdown",
   "metadata": {},
   "source": [
    "Nuevamente observando los resultados del DataFrame 'embudo_ordenado', en la columna de proporción acumulada se puede ver claramente que la última etapa donde aparecen los usuarios con el pago exitoso, la proporción es del 47.7% con respecto al 100% de los usuarios que entraron a la página princial de la aplicación.\n",
    "\n",
    "Eso quiere decir, que casi un 50% de los usuarios que entran a la página de inicio, pasaron por todas las etapas del embudo de ventas y realizaron una compra, reportando en esta página como un pago exitoso debido a esa compra."
   ]
  },
  {
   "cell_type": "markdown",
   "metadata": {},
   "source": [
    "<div class=\"alert alert-block alert-success\">  \n",
    "<b>Comentario del revisor</b> <a class=\"tocSkip\"></a><br>  \n",
    "<b>Éxito</b> - Excelente análisis del embudo de conversión: identificaste con claridad la secuencia lógica de eventos, excluiste con buen criterio el tutorial, y calculaste tanto proporciones de paso como acumuladas. Tu razonamiento sobre la pérdida de usuarios y la tasa final de conversión está bien argumentado y refleja una comprensión sólida del proceso de análisis. </div>\n"
   ]
  },
  {
   "cell_type": "markdown",
   "metadata": {},
   "source": [
    "## **Paso 5. Estudiar los resultados del experimento**"
   ]
  },
  {
   "cell_type": "markdown",
   "metadata": {},
   "source": [
    "### **5.1. ¿Cuántos usuarios hay en cada grupo?**"
   ]
  },
  {
   "cell_type": "code",
   "execution_count": 27,
   "metadata": {},
   "outputs": [
    {
     "data": {
      "text/plain": [
       "group\n",
       "246    2484\n",
       "247    2513\n",
       "248    2537\n",
       "Name: user_id, dtype: int64"
      ]
     },
     "execution_count": 27,
     "metadata": {},
     "output_type": "execute_result"
    }
   ],
   "source": [
    "# Mostrar los usuarios por grupo \n",
    "\n",
    "usuarios_por_grupo"
   ]
  },
  {
   "cell_type": "markdown",
   "metadata": {},
   "source": [
    "La cantidad de usuarios por grupo, encontrado anteriormente es la siguiente:\n",
    "- Grupo 246, cuenta con 2484 usuarios.\n",
    "- Grupo 247, cuenta con 2513 usuarios.\n",
    "- Grupo 248, cuenta con 2537 usuarios.\n",
    "\n",
    "Estos valores se obtuvieron despúes de realizar el filtrado del DataFrame de 'registros'. Se puede decir que la distribución de la cantidad de usuarios es muy similar entre ellos. entre el grupo 246 (2484 usuarios) el grupo con menor cantidad de usuarios y el grupo 248 (2537 usuarios) con mayor contidad de usuarios, hay una diferencia de sólo 53 usuarios."
   ]
  },
  {
   "cell_type": "markdown",
   "metadata": {},
   "source": [
    "### **5.2. Tenemos dos grupos de control en el test A/A, donde comprobamos nuestros mecanismos y cálculos. Observa si hay una diferencia estadísticamente significativa entre las muestras 246 y 247**"
   ]
  },
  {
   "cell_type": "code",
   "execution_count": 28,
   "metadata": {},
   "outputs": [
    {
     "data": {
      "text/html": [
       "<div>\n",
       "<style scoped>\n",
       "    .dataframe tbody tr th:only-of-type {\n",
       "        vertical-align: middle;\n",
       "    }\n",
       "\n",
       "    .dataframe tbody tr th {\n",
       "        vertical-align: top;\n",
       "    }\n",
       "\n",
       "    .dataframe thead th {\n",
       "        text-align: right;\n",
       "    }\n",
       "</style>\n",
       "<table border=\"1\" class=\"dataframe\">\n",
       "  <thead>\n",
       "    <tr style=\"text-align: right;\">\n",
       "      <th></th>\n",
       "      <th>user_id</th>\n",
       "      <th>group</th>\n",
       "    </tr>\n",
       "  </thead>\n",
       "  <tbody>\n",
       "    <tr>\n",
       "      <th>2828</th>\n",
       "      <td>3737462046622621720</td>\n",
       "      <td>246</td>\n",
       "    </tr>\n",
       "    <tr>\n",
       "      <th>2832</th>\n",
       "      <td>1433840883824088890</td>\n",
       "      <td>247</td>\n",
       "    </tr>\n",
       "    <tr>\n",
       "      <th>2833</th>\n",
       "      <td>4899590676214355127</td>\n",
       "      <td>247</td>\n",
       "    </tr>\n",
       "    <tr>\n",
       "      <th>2840</th>\n",
       "      <td>1182179323890311443</td>\n",
       "      <td>246</td>\n",
       "    </tr>\n",
       "    <tr>\n",
       "      <th>2844</th>\n",
       "      <td>4613461174774205834</td>\n",
       "      <td>248</td>\n",
       "    </tr>\n",
       "    <tr>\n",
       "      <th>...</th>\n",
       "      <td>...</td>\n",
       "      <td>...</td>\n",
       "    </tr>\n",
       "    <tr>\n",
       "      <th>243339</th>\n",
       "      <td>5811573131275421338</td>\n",
       "      <td>248</td>\n",
       "    </tr>\n",
       "    <tr>\n",
       "      <th>243542</th>\n",
       "      <td>5365227480683749189</td>\n",
       "      <td>248</td>\n",
       "    </tr>\n",
       "    <tr>\n",
       "      <th>243777</th>\n",
       "      <td>6660805781687343085</td>\n",
       "      <td>246</td>\n",
       "    </tr>\n",
       "    <tr>\n",
       "      <th>243820</th>\n",
       "      <td>7823752606740475984</td>\n",
       "      <td>246</td>\n",
       "    </tr>\n",
       "    <tr>\n",
       "      <th>243862</th>\n",
       "      <td>3454683894921357834</td>\n",
       "      <td>247</td>\n",
       "    </tr>\n",
       "  </tbody>\n",
       "</table>\n",
       "<p>7534 rows × 2 columns</p>\n",
       "</div>"
      ],
      "text/plain": [
       "                    user_id  group\n",
       "2828    3737462046622621720    246\n",
       "2832    1433840883824088890    247\n",
       "2833    4899590676214355127    247\n",
       "2840    1182179323890311443    246\n",
       "2844    4613461174774205834    248\n",
       "...                     ...    ...\n",
       "243339  5811573131275421338    248\n",
       "243542  5365227480683749189    248\n",
       "243777  6660805781687343085    246\n",
       "243820  7823752606740475984    246\n",
       "243862  3454683894921357834    247\n",
       "\n",
       "[7534 rows x 2 columns]"
      ]
     },
     "execution_count": 28,
     "metadata": {},
     "output_type": "execute_result"
    }
   ],
   "source": [
    "# Obtener un DataFrame con los usuarios únicos y el grupo\n",
    "\n",
    "usuarios_unicos = registros_filtrados[['user_id', 'group']].drop_duplicates()\n",
    "\n",
    "usuarios_unicos"
   ]
  },
  {
   "cell_type": "code",
   "execution_count": 29,
   "metadata": {},
   "outputs": [
    {
     "data": {
      "text/plain": [
       "array([4613461174774205834, 2712290788139738557, 6049698452889664846, ...,\n",
       "       1309234519709630135, 7823752606740475984, 4164287718073415198])"
      ]
     },
     "execution_count": 29,
     "metadata": {},
     "output_type": "execute_result"
    }
   ],
   "source": [
    "# Encontrar los usuarios que llegaron a la etapa de 'PaymentScreenSuccessful'\n",
    "\n",
    "usuarios_exitosos = registros_filtrados[\n",
    "    registros_filtrados['event_name'] == 'PaymentScreenSuccessful']['user_id'].unique()\n",
    "\n",
    "usuarios_exitosos"
   ]
  },
  {
   "cell_type": "code",
   "execution_count": 30,
   "metadata": {},
   "outputs": [
    {
     "data": {
      "text/html": [
       "<div>\n",
       "<style scoped>\n",
       "    .dataframe tbody tr th:only-of-type {\n",
       "        vertical-align: middle;\n",
       "    }\n",
       "\n",
       "    .dataframe tbody tr th {\n",
       "        vertical-align: top;\n",
       "    }\n",
       "\n",
       "    .dataframe thead th {\n",
       "        text-align: right;\n",
       "    }\n",
       "</style>\n",
       "<table border=\"1\" class=\"dataframe\">\n",
       "  <thead>\n",
       "    <tr style=\"text-align: right;\">\n",
       "      <th></th>\n",
       "      <th>user_id</th>\n",
       "      <th>group</th>\n",
       "      <th>converted</th>\n",
       "    </tr>\n",
       "  </thead>\n",
       "  <tbody>\n",
       "    <tr>\n",
       "      <th>2828</th>\n",
       "      <td>3737462046622621720</td>\n",
       "      <td>246</td>\n",
       "      <td>1</td>\n",
       "    </tr>\n",
       "    <tr>\n",
       "      <th>2832</th>\n",
       "      <td>1433840883824088890</td>\n",
       "      <td>247</td>\n",
       "      <td>0</td>\n",
       "    </tr>\n",
       "    <tr>\n",
       "      <th>2833</th>\n",
       "      <td>4899590676214355127</td>\n",
       "      <td>247</td>\n",
       "      <td>1</td>\n",
       "    </tr>\n",
       "    <tr>\n",
       "      <th>2840</th>\n",
       "      <td>1182179323890311443</td>\n",
       "      <td>246</td>\n",
       "      <td>0</td>\n",
       "    </tr>\n",
       "    <tr>\n",
       "      <th>2844</th>\n",
       "      <td>4613461174774205834</td>\n",
       "      <td>248</td>\n",
       "      <td>1</td>\n",
       "    </tr>\n",
       "    <tr>\n",
       "      <th>...</th>\n",
       "      <td>...</td>\n",
       "      <td>...</td>\n",
       "      <td>...</td>\n",
       "    </tr>\n",
       "    <tr>\n",
       "      <th>243339</th>\n",
       "      <td>5811573131275421338</td>\n",
       "      <td>248</td>\n",
       "      <td>0</td>\n",
       "    </tr>\n",
       "    <tr>\n",
       "      <th>243542</th>\n",
       "      <td>5365227480683749189</td>\n",
       "      <td>248</td>\n",
       "      <td>0</td>\n",
       "    </tr>\n",
       "    <tr>\n",
       "      <th>243777</th>\n",
       "      <td>6660805781687343085</td>\n",
       "      <td>246</td>\n",
       "      <td>0</td>\n",
       "    </tr>\n",
       "    <tr>\n",
       "      <th>243820</th>\n",
       "      <td>7823752606740475984</td>\n",
       "      <td>246</td>\n",
       "      <td>1</td>\n",
       "    </tr>\n",
       "    <tr>\n",
       "      <th>243862</th>\n",
       "      <td>3454683894921357834</td>\n",
       "      <td>247</td>\n",
       "      <td>0</td>\n",
       "    </tr>\n",
       "  </tbody>\n",
       "</table>\n",
       "<p>7534 rows × 3 columns</p>\n",
       "</div>"
      ],
      "text/plain": [
       "                    user_id  group  converted\n",
       "2828    3737462046622621720    246          1\n",
       "2832    1433840883824088890    247          0\n",
       "2833    4899590676214355127    247          1\n",
       "2840    1182179323890311443    246          0\n",
       "2844    4613461174774205834    248          1\n",
       "...                     ...    ...        ...\n",
       "243339  5811573131275421338    248          0\n",
       "243542  5365227480683749189    248          0\n",
       "243777  6660805781687343085    246          0\n",
       "243820  7823752606740475984    246          1\n",
       "243862  3454683894921357834    247          0\n",
       "\n",
       "[7534 rows x 3 columns]"
      ]
     },
     "execution_count": 30,
     "metadata": {},
     "output_type": "execute_result"
    }
   ],
   "source": [
    "# Crear una columna 'converted' con astype(int) para convertir True en 1 y False en 0\n",
    "\n",
    "usuarios_unicos['converted'] = usuarios_unicos['user_id'].isin(usuarios_exitosos).astype(int)\n",
    "\n",
    "usuarios_unicos"
   ]
  },
  {
   "cell_type": "code",
   "execution_count": 31,
   "metadata": {},
   "outputs": [
    {
     "data": {
      "text/plain": [
       "2828      1\n",
       "2840      0\n",
       "2849      1\n",
       "2914      1\n",
       "2951      1\n",
       "         ..\n",
       "240261    0\n",
       "240659    0\n",
       "241425    1\n",
       "243777    0\n",
       "243820    1\n",
       "Name: converted, Length: 2484, dtype: int64"
      ]
     },
     "metadata": {},
     "output_type": "display_data"
    },
    {
     "data": {
      "text/plain": [
       "2832      0\n",
       "2833      1\n",
       "2862      1\n",
       "2910      1\n",
       "2928      0\n",
       "         ..\n",
       "242243    0\n",
       "242695    0\n",
       "242791    0\n",
       "243036    0\n",
       "243862    0\n",
       "Name: converted, Length: 2513, dtype: int64"
      ]
     },
     "metadata": {},
     "output_type": "display_data"
    }
   ],
   "source": [
    "# Filtrar los datos de conversión de solo los grupos de control 246 y 247\n",
    "\n",
    "muestra_246 = usuarios_unicos[usuarios_unicos['group'] == 246]['converted']\n",
    "\n",
    "muestra_247 = usuarios_unicos[usuarios_unicos['group'] == 247]['converted']\n",
    "\n",
    "display(muestra_246)\n",
    "display(muestra_247)"
   ]
  },
  {
   "cell_type": "code",
   "execution_count": 32,
   "metadata": {},
   "outputs": [
    {
     "name": "stdout",
     "output_type": "stream",
     "text": [
      "Valor-P: 0.11461763081212142\n",
      "Los grupos de control no son estadísticamente diferentes\n"
     ]
    }
   ],
   "source": [
    "# Realizar la prueba estadística de t de student\n",
    "\n",
    "alpha = 0.05 \n",
    "\n",
    "results = st.ttest_ind(muestra_246, muestra_247, equal_var=False)\n",
    "\n",
    "print(\"Valor-P:\", results.pvalue)\n",
    "\n",
    "if results.pvalue < alpha:\n",
    "    print('Los grupos de control son estadísticamente diferentes')\n",
    "else:\n",
    "    print('Los grupos de control no son estadísticamente diferentes')\n"
   ]
  },
  {
   "cell_type": "markdown",
   "metadata": {},
   "source": [
    "Para concluir si hay significancia estadística en los grupos de control 246 y 247 se realizaron varias acciones:\n",
    "1. Se obtubo el DataFrame 'usuarios_unicos' con los usuarios únicos y sus grupos.\n",
    "2. Luego se encontraron los usuarios que llegaron a la etapa de 'PaymentScreenSuccessful'.\n",
    "3. Después se creo la columna 'converted', con el método isin se verificó si cada usuario está en la lista de éxitos y con astype(int) se conviertió True en 1 y False en 0 para identificar los usuarios que se convirtieron en compradores y los que no realizaron compras.\n",
    "4. A continuación, se filtraon los datos de conversión solo para los grupos de control 246 y 247.\n",
    "5. Por último, se realizó la prueba estadística de t de student para investigar si había diferencia estadísticamente significativa entre las muestras 246 y 247.\n",
    "\n",
    "Se toma como referencia el valor de apha=0.05 como valor estandar utilizado para pruebas estadísticas. Se obtiene como resultado de la prueba 't', yn valor p de 0.1146, este valor es mayor a alpha, por lo tanto se puede concluir que lo grupos de control 246 y 247 no son estadísticamente diferentes y por consiguiente, de ser necesario, se puede continuar con la prueba A/B."
   ]
  },
  {
   "cell_type": "markdown",
   "metadata": {},
   "source": [
    "### **5.3. Selecciona el evento más popular. En cada uno de los grupos de control, encuentra la cantidad de usuarios que realizaron esta acción. Encuentra su proporción. Comprueba si la diferencia entre los grupos es estadísticamente significativa. Repite el procedimiento para todos los demás eventos (ahorrarás tiempo si creas una función especial para esta prueba). ¿Puedes confirmar que los grupos se dividieron correctamente?**"
   ]
  },
  {
   "cell_type": "code",
   "execution_count": 33,
   "metadata": {},
   "outputs": [
    {
     "data": {
      "text/plain": [
       "'MainScreenAppear'"
      ]
     },
     "execution_count": 33,
     "metadata": {},
     "output_type": "execute_result"
    }
   ],
   "source": [
    "# Contar la frecuencia de cada evento y seleccionar el nombre del evento más popular\n",
    "\n",
    "evento_mas_popular = registros_filtrados['event_name'].value_counts().index[0]\n",
    "\n",
    "evento_mas_popular"
   ]
  },
  {
   "cell_type": "code",
   "execution_count": 34,
   "metadata": {},
   "outputs": [
    {
     "data": {
      "text/plain": [
       "2484"
      ]
     },
     "metadata": {},
     "output_type": "display_data"
    },
    {
     "data": {
      "text/plain": [
       "2513"
      ]
     },
     "metadata": {},
     "output_type": "display_data"
    }
   ],
   "source": [
    "# Filtrar los datos para los grupos de control 246 y 247\n",
    "\n",
    "grupos_control = registros_filtrados[registros_filtrados['group'].isin([246, 247])]\n",
    "\n",
    "# Contar el número total de usuarios únicos en cada grupo de control 246 y 247\n",
    "usuarios_grupo_control = grupos_control.groupby('group')['user_id'].nunique()\n",
    "total_usuarios_246 = usuarios_grupo_control.loc[246]\n",
    "total_usuarios_247 = usuarios_grupo_control.loc[247]\n",
    "\n",
    "display(total_usuarios_246)\n",
    "display(total_usuarios_247)"
   ]
  },
  {
   "cell_type": "code",
   "execution_count": 35,
   "metadata": {},
   "outputs": [
    {
     "data": {
      "text/html": [
       "<div>\n",
       "<style scoped>\n",
       "    .dataframe tbody tr th:only-of-type {\n",
       "        vertical-align: middle;\n",
       "    }\n",
       "\n",
       "    .dataframe tbody tr th {\n",
       "        vertical-align: top;\n",
       "    }\n",
       "\n",
       "    .dataframe thead th {\n",
       "        text-align: right;\n",
       "    }\n",
       "</style>\n",
       "<table border=\"1\" class=\"dataframe\">\n",
       "  <thead>\n",
       "    <tr style=\"text-align: right;\">\n",
       "      <th></th>\n",
       "      <th>event_name</th>\n",
       "      <th>user_id</th>\n",
       "      <th>event_time</th>\n",
       "      <th>group</th>\n",
       "      <th>event_date</th>\n",
       "    </tr>\n",
       "  </thead>\n",
       "  <tbody>\n",
       "    <tr>\n",
       "      <th>2828</th>\n",
       "      <td>Tutorial</td>\n",
       "      <td>3737462046622621720</td>\n",
       "      <td>2019-08-01 00:07:28</td>\n",
       "      <td>246</td>\n",
       "      <td>2019-08-01</td>\n",
       "    </tr>\n",
       "    <tr>\n",
       "      <th>2829</th>\n",
       "      <td>MainScreenAppear</td>\n",
       "      <td>3737462046622621720</td>\n",
       "      <td>2019-08-01 00:08:00</td>\n",
       "      <td>246</td>\n",
       "      <td>2019-08-01</td>\n",
       "    </tr>\n",
       "    <tr>\n",
       "      <th>2830</th>\n",
       "      <td>MainScreenAppear</td>\n",
       "      <td>3737462046622621720</td>\n",
       "      <td>2019-08-01 00:08:55</td>\n",
       "      <td>246</td>\n",
       "      <td>2019-08-01</td>\n",
       "    </tr>\n",
       "    <tr>\n",
       "      <th>2831</th>\n",
       "      <td>OffersScreenAppear</td>\n",
       "      <td>3737462046622621720</td>\n",
       "      <td>2019-08-01 00:08:58</td>\n",
       "      <td>246</td>\n",
       "      <td>2019-08-01</td>\n",
       "    </tr>\n",
       "    <tr>\n",
       "      <th>2832</th>\n",
       "      <td>MainScreenAppear</td>\n",
       "      <td>1433840883824088890</td>\n",
       "      <td>2019-08-01 00:08:59</td>\n",
       "      <td>247</td>\n",
       "      <td>2019-08-01</td>\n",
       "    </tr>\n",
       "    <tr>\n",
       "      <th>...</th>\n",
       "      <td>...</td>\n",
       "      <td>...</td>\n",
       "      <td>...</td>\n",
       "      <td>...</td>\n",
       "      <td>...</td>\n",
       "    </tr>\n",
       "    <tr>\n",
       "      <th>244121</th>\n",
       "      <td>MainScreenAppear</td>\n",
       "      <td>4599628364049201812</td>\n",
       "      <td>2019-08-07 21:12:25</td>\n",
       "      <td>247</td>\n",
       "      <td>2019-08-07</td>\n",
       "    </tr>\n",
       "    <tr>\n",
       "      <th>244122</th>\n",
       "      <td>MainScreenAppear</td>\n",
       "      <td>5849806612437486590</td>\n",
       "      <td>2019-08-07 21:13:59</td>\n",
       "      <td>246</td>\n",
       "      <td>2019-08-07</td>\n",
       "    </tr>\n",
       "    <tr>\n",
       "      <th>244123</th>\n",
       "      <td>MainScreenAppear</td>\n",
       "      <td>5746969938801999050</td>\n",
       "      <td>2019-08-07 21:14:43</td>\n",
       "      <td>246</td>\n",
       "      <td>2019-08-07</td>\n",
       "    </tr>\n",
       "    <tr>\n",
       "      <th>244124</th>\n",
       "      <td>MainScreenAppear</td>\n",
       "      <td>5746969938801999050</td>\n",
       "      <td>2019-08-07 21:14:58</td>\n",
       "      <td>246</td>\n",
       "      <td>2019-08-07</td>\n",
       "    </tr>\n",
       "    <tr>\n",
       "      <th>244125</th>\n",
       "      <td>OffersScreenAppear</td>\n",
       "      <td>5746969938801999050</td>\n",
       "      <td>2019-08-07 21:15:17</td>\n",
       "      <td>246</td>\n",
       "      <td>2019-08-07</td>\n",
       "    </tr>\n",
       "  </tbody>\n",
       "</table>\n",
       "<p>156572 rows × 5 columns</p>\n",
       "</div>"
      ],
      "text/plain": [
       "                event_name              user_id          event_time  group  \\\n",
       "2828              Tutorial  3737462046622621720 2019-08-01 00:07:28    246   \n",
       "2829      MainScreenAppear  3737462046622621720 2019-08-01 00:08:00    246   \n",
       "2830      MainScreenAppear  3737462046622621720 2019-08-01 00:08:55    246   \n",
       "2831    OffersScreenAppear  3737462046622621720 2019-08-01 00:08:58    246   \n",
       "2832      MainScreenAppear  1433840883824088890 2019-08-01 00:08:59    247   \n",
       "...                    ...                  ...                 ...    ...   \n",
       "244121    MainScreenAppear  4599628364049201812 2019-08-07 21:12:25    247   \n",
       "244122    MainScreenAppear  5849806612437486590 2019-08-07 21:13:59    246   \n",
       "244123    MainScreenAppear  5746969938801999050 2019-08-07 21:14:43    246   \n",
       "244124    MainScreenAppear  5746969938801999050 2019-08-07 21:14:58    246   \n",
       "244125  OffersScreenAppear  5746969938801999050 2019-08-07 21:15:17    246   \n",
       "\n",
       "        event_date  \n",
       "2828    2019-08-01  \n",
       "2829    2019-08-01  \n",
       "2830    2019-08-01  \n",
       "2831    2019-08-01  \n",
       "2832    2019-08-01  \n",
       "...            ...  \n",
       "244121  2019-08-07  \n",
       "244122  2019-08-07  \n",
       "244123  2019-08-07  \n",
       "244124  2019-08-07  \n",
       "244125  2019-08-07  \n",
       "\n",
       "[156572 rows x 5 columns]"
      ]
     },
     "execution_count": 35,
     "metadata": {},
     "output_type": "execute_result"
    }
   ],
   "source": [
    "# Mostrar el DataFrame con la información de los grupos de control 246 y 247, se excluye el grupo 248\n",
    "\n",
    "grupos_control = registros_filtrados[registros_filtrados['group'].isin([246, 247])]\n",
    "\n",
    "grupos_control"
   ]
  },
  {
   "cell_type": "code",
   "execution_count": 36,
   "metadata": {},
   "outputs": [
    {
     "name": "stdout",
     "output_type": "stream",
     "text": [
      "Usuarios en el grupo 246 que realizaron 'MainScreenAppear': 2450\n",
      "Usuarios en el grupo 247 que realizaron 'MainScreenAppear': 2476\n"
     ]
    }
   ],
   "source": [
    "# Filtrar el DataFrame 'grupos_control' para obtener solo el evento más popular\n",
    "\n",
    "usuarios_evento_popular = grupos_control[\n",
    "    grupos_control['event_name'] == evento_mas_popular\n",
    "    ].groupby('group')['user_id'].nunique()\n",
    "\n",
    "# Contar el número de usuarios únicos por grupo\n",
    "usuarios_246_evento = usuarios_evento_popular.loc[246]\n",
    "usuarios_247_evento = usuarios_evento_popular.loc[247]\n",
    "\n",
    "print(f\"Usuarios en el grupo 246 que realizaron '{evento_mas_popular}': {usuarios_246_evento}\")\n",
    "print(f\"Usuarios en el grupo 247 que realizaron '{evento_mas_popular}': {usuarios_247_evento}\")"
   ]
  },
  {
   "cell_type": "code",
   "execution_count": 37,
   "metadata": {},
   "outputs": [
    {
     "name": "stdout",
     "output_type": "stream",
     "text": [
      "Proporción del grupo 246: 98.63%\n",
      "Proporción del grupo 247: 98.53%\n"
     ]
    }
   ],
   "source": [
    "# Calcular la proporción dividiendo los usuarios del evento entre el total de usuarios de cada grupo \n",
    "\n",
    "proporcion_246 = usuarios_246_evento / total_usuarios_246\n",
    "proporcion_247 = usuarios_247_evento / total_usuarios_247\n",
    "\n",
    "print(f'Proporción del grupo 246: {proporcion_246:.2%}')\n",
    "print(f'Proporción del grupo 247: {proporcion_247:.2%}')"
   ]
  },
  {
   "cell_type": "markdown",
   "metadata": {},
   "source": [
    "Para desarrollar este punto 5.3, se realizaron varios pasos:\n",
    "\n",
    "1. Se contó la frecuencia de cada evento y se obtivo el nombre del evento más popular 'MainScreenAppear', este paso es una confirmación de que el entrar a la página principal es el evento más frecuente del embudo de ventas.\n",
    "2. Luego se filtraron los datos del DataFrame 'registros_filtrados' para los grupos de control 246 y 247 y se confirmó el número total de usuarios únicos en cada grupo de control siendo de 2482 para el grupo 246 y 2513 para el grupo 247.\n",
    "3. Se mostró el DataFrame 'grupos_control' con la información de los grupos de control 246 y 247, excluyen el grupo 248.\n",
    "4. A continuación se obtuvo la cantidad de usuarios de los 'grupos_control' del evento más popular, obteniendose para ambos grupoc omo el el evento más popular el 'MainScreenAppear', con 2450 usuarios únicos para el grupo 246 y 2476 usuarios para el grupo 247.\n",
    "5. Luego se calculó la proporción dividiendo los usuarios del evento entre el total de usuarios de cada grupo obteniendose una proporción de 98.63% para el grupo 246 y 98.53% para el grupo 247. Este análisis da una idea de la distribución del evento más común entre los dos grupos de control y se puede decir que es practicamente igual para ambos grupos."
   ]
  },
  {
   "cell_type": "code",
   "execution_count": 38,
   "metadata": {},
   "outputs": [
    {
     "data": {
      "text/html": [
       "<div>\n",
       "<style scoped>\n",
       "    .dataframe tbody tr th:only-of-type {\n",
       "        vertical-align: middle;\n",
       "    }\n",
       "\n",
       "    .dataframe tbody tr th {\n",
       "        vertical-align: top;\n",
       "    }\n",
       "\n",
       "    .dataframe thead th {\n",
       "        text-align: right;\n",
       "    }\n",
       "</style>\n",
       "<table border=\"1\" class=\"dataframe\">\n",
       "  <thead>\n",
       "    <tr style=\"text-align: right;\">\n",
       "      <th></th>\n",
       "      <th>user_id</th>\n",
       "      <th>group</th>\n",
       "    </tr>\n",
       "  </thead>\n",
       "  <tbody>\n",
       "    <tr>\n",
       "      <th>2828</th>\n",
       "      <td>3737462046622621720</td>\n",
       "      <td>246</td>\n",
       "    </tr>\n",
       "    <tr>\n",
       "      <th>2832</th>\n",
       "      <td>1433840883824088890</td>\n",
       "      <td>247</td>\n",
       "    </tr>\n",
       "    <tr>\n",
       "      <th>2833</th>\n",
       "      <td>4899590676214355127</td>\n",
       "      <td>247</td>\n",
       "    </tr>\n",
       "    <tr>\n",
       "      <th>2840</th>\n",
       "      <td>1182179323890311443</td>\n",
       "      <td>246</td>\n",
       "    </tr>\n",
       "    <tr>\n",
       "      <th>2849</th>\n",
       "      <td>205293431553451771</td>\n",
       "      <td>246</td>\n",
       "    </tr>\n",
       "    <tr>\n",
       "      <th>...</th>\n",
       "      <td>...</td>\n",
       "      <td>...</td>\n",
       "    </tr>\n",
       "    <tr>\n",
       "      <th>242791</th>\n",
       "      <td>1084823616235555727</td>\n",
       "      <td>247</td>\n",
       "    </tr>\n",
       "    <tr>\n",
       "      <th>243036</th>\n",
       "      <td>741809788823411824</td>\n",
       "      <td>247</td>\n",
       "    </tr>\n",
       "    <tr>\n",
       "      <th>243777</th>\n",
       "      <td>6660805781687343085</td>\n",
       "      <td>246</td>\n",
       "    </tr>\n",
       "    <tr>\n",
       "      <th>243820</th>\n",
       "      <td>7823752606740475984</td>\n",
       "      <td>246</td>\n",
       "    </tr>\n",
       "    <tr>\n",
       "      <th>243862</th>\n",
       "      <td>3454683894921357834</td>\n",
       "      <td>247</td>\n",
       "    </tr>\n",
       "  </tbody>\n",
       "</table>\n",
       "<p>4997 rows × 2 columns</p>\n",
       "</div>"
      ],
      "text/plain": [
       "                    user_id  group\n",
       "2828    3737462046622621720    246\n",
       "2832    1433840883824088890    247\n",
       "2833    4899590676214355127    247\n",
       "2840    1182179323890311443    246\n",
       "2849     205293431553451771    246\n",
       "...                     ...    ...\n",
       "242791  1084823616235555727    247\n",
       "243036   741809788823411824    247\n",
       "243777  6660805781687343085    246\n",
       "243820  7823752606740475984    246\n",
       "243862  3454683894921357834    247\n",
       "\n",
       "[4997 rows x 2 columns]"
      ]
     },
     "execution_count": 38,
     "metadata": {},
     "output_type": "execute_result"
    }
   ],
   "source": [
    "# Obtener un DataFrame de los grupos de control con 'user_id' y 'group'\n",
    "\n",
    "grupos_control = [246, 247]\n",
    "\n",
    "usuarios_grupos_control = usuarios_unicos[usuarios_unicos['group'].isin(grupos_control)]\n",
    "\n",
    "usuarios_grupos_control = usuarios_grupos_control.drop(columns=['converted'])\n",
    "\n",
    "usuarios_grupos_control"
   ]
  },
  {
   "cell_type": "code",
   "execution_count": 39,
   "metadata": {},
   "outputs": [],
   "source": [
    "# Crear un bucle for para que en cada evento se añada una columna con 1 y 0\n",
    "\n",
    "eventos_unicos = registros_filtrados['event_name'].unique()\n",
    "grupo_control_1 = 246\n",
    "grupo_control_2 = 247\n",
    "\n",
    "for evento in eventos_unicos:\n",
    "    usuarios_evento = registros_filtrados[registros_filtrados['event_name'] == evento]['user_id'].unique()\n",
    "    usuarios_grupos_control[evento] = usuarios_grupos_control['user_id'].isin(usuarios_evento).astype(int)"
   ]
  },
  {
   "cell_type": "code",
   "execution_count": 40,
   "metadata": {},
   "outputs": [
    {
     "name": "stdout",
     "output_type": "stream",
     "text": [
      "Prueba A/A (t-test)\n",
      "\n",
      "                    Evento   p_valor  Diferencia_Significativa\n",
      "0                 Tutorial  0.937714                     False\n",
      "1         MainScreenAppear  0.757068                     False\n",
      "2       OffersScreenAppear  0.248161                     False\n",
      "3         CartScreenAppear  0.228916                     False\n",
      "4  PaymentScreenSuccessful  0.114618                     False\n",
      "\n",
      "No se encontraron diferencias estadísticamente significativas\n",
      "\n"
     ]
    }
   ],
   "source": [
    "# Crear la función para la prueba estadística t de student\n",
    "\n",
    "alpha = 0.05\n",
    "\n",
    "def test_event_proportions_ttest(event_name, users, group1, group2):\n",
    "    muestra_g1 = users[users['group'] == group1][event_name]\n",
    "    muestra_g2 = users[users['group'] == group2][event_name]\n",
    "\n",
    "    try:\n",
    "        t_stat, p_value = st.ttest_ind(muestra_g1, muestra_g2, equal_var=False)\n",
    "    except:\n",
    "        p_value = np.nan\n",
    "        \n",
    "    return p_value\n",
    "\n",
    "\n",
    "# Aplicar la función a todos los eventos y crear el reporte\n",
    "\n",
    "resultados_test_aa = {}\n",
    "\n",
    "for evento in eventos_unicos:\n",
    "    p_value = test_event_proportions_ttest(evento, usuarios_grupos_control, grupo_control_1, grupo_control_2)\n",
    "    resultados_test_aa[evento] = p_value\n",
    "\n",
    "reporte = pd.DataFrame(resultados_test_aa.items(), columns=['Evento', 'p_valor'])\n",
    "reporte['Diferencia_Significativa'] = reporte['p_valor'] < alpha\n",
    "\n",
    "print('Prueba A/A (t-test)')\n",
    "print()\n",
    "print(reporte)\n",
    "print()\n",
    "\n",
    "# Confirmar la división de grupos\n",
    "\n",
    "problemas_encontrados = reporte['Diferencia_Significativa'].any()\n",
    "\n",
    "if problemas_encontrados:\n",
    "    print('Se encontraron diferencias estadísticamente significativas')\n",
    "else:\n",
    "    print('No se encontraron diferencias estadísticamente significativas')\n",
    "print()"
   ]
  },
  {
   "cell_type": "markdown",
   "metadata": {},
   "source": [
    "Ahora con respecto a la función, su objetivo es devolver un p-valor para un evento. Esta función se enfoca en crear las dos muestras 'éxitos' y 'totales' de 1 y 0 que la prueba t necesita.\n",
    "\n",
    "Se creó un bucle for en el cual se toman todos los usuarios del grupo 1, se verifica si cada uno de ellos está en la lista de usuarios que realizaron el evento, y convierte el resultado (True/False) a 1/0. Esto crea la lista de datos que la prueba t procesar.\n",
    "\n",
    "Se añadió un bloque try-except para capturar el error de p_value = nan, así se asegura de que el código no se detenga si algún grupo presenta 0 conversiones.\n",
    "\n",
    "Finalmente se obtiene un DataFrame 'reporte' con todos los resultados de los p-valores y un valor booleano con la conclusión de cada prueba."
   ]
  },
  {
   "cell_type": "markdown",
   "metadata": {},
   "source": [
    "El DataFframe obtenido 'reporte' arroja el valor-p para queda evento de la prueba A/A y la diferencia significativa de estos.\n",
    "\n",
    "Como los p_valor obtenidos en todos los eventos fueron mayores a alpha (valor estandar de 0.05) esto puede significar que no hay una diferencia estadísticamente significativa entre los grupos 246 y 247 para estos eventos. Cualquier pequeña variación en las tasas de conversión es probable que sea producto del azar.\n",
    "\n",
    "Ahora, para responder a la pregunta ¿Puedes confirmar que los grupos se dividieron correctamente? Me baso en los resultados obtenidos de esta prueba en cuanto a la columna de 'Diferencia_Significativa', todos los resultados aquí obtenidos fuero False, lo que me da el sustento para decir que los grupos si se dividieron correctamente pues no se encontró una significancia estadistica entre los grupos 246 y 247, indicando que estos dos grupos tuvieron comportamientos similares."
   ]
  },
  {
   "cell_type": "markdown",
   "metadata": {},
   "source": [
    "### **5.4. Haz lo mismo para el grupo con fuentes alteradas. Compara los resultados con los de cada uno de los grupos de control para cada evento de forma aislada. Compara los resultados con los resultados combinados de los grupos de control. ¿Qué conclusiones puedes sacar del experimento?**"
   ]
  },
  {
   "cell_type": "code",
   "execution_count": 41,
   "metadata": {},
   "outputs": [],
   "source": [
    "# Definir los grupos para la función \n",
    "\n",
    "grupo_control_1 = 246\n",
    "grupo_control_2 = 247\n",
    "grupo_prueba = 248\n",
    "alpha = 0.05\n",
    "\n",
    "# Crear la función para realizar la prueba t corregida\n",
    "\n",
    "def test_event_proportions_ttest(event_name, df, group1, group2):\n",
    "    usuarios_g1 = df[df['group'] == group1]['user_id'].drop_duplicates()\n",
    "    usuarios_g2 = df[df['group'] == group2]['user_id'].drop_duplicates()\n",
    "\n",
    "    usuarios_evento_g1 = df[(df['group'] == group1) & (df['event_name'] == event_name)]['user_id'].unique()\n",
    "    usuarios_evento_g2 = df[(df['group'] == group2) & (df['event_name'] == event_name)]['user_id'].unique()\n",
    "    \n",
    "    muestra_g1 = usuarios_g1.isin(usuarios_evento_g1).astype(int)\n",
    "    muestra_g2 = usuarios_g2.isin(usuarios_evento_g2).astype(int)\n",
    "\n",
    "    t_stat, p_value = st.ttest_ind(muestra_g1, muestra_g2, equal_var=False)\n",
    "    \n",
    "    return p_value"
   ]
  },
  {
   "cell_type": "code",
   "execution_count": 42,
   "metadata": {},
   "outputs": [
    {
     "name": "stdout",
     "output_type": "stream",
     "text": [
      "Grupo de control 246 vs Grupo de prueba 248 (t-test)\n",
      "                    Evento   p_valor  Diferencia_Significativa\n",
      "0                 Tutorial  0.826485                     False\n",
      "1         MainScreenAppear  0.294475                     False\n",
      "2       OffersScreenAppear  0.208400                     False\n",
      "3         CartScreenAppear  0.078458                     False\n",
      "4  PaymentScreenSuccessful  0.212343                     False\n",
      "\n",
      " Grupo de control 247 vs Grupo de prueba 248 (t-test)\n",
      "                    Evento   p_valor  Diferencia_Significativa\n",
      "0                 Tutorial  0.765391                     False\n",
      "1         MainScreenAppear  0.458633                     False\n",
      "2       OffersScreenAppear  0.919801                     False\n",
      "3         CartScreenAppear  0.578709                     False\n",
      "4  PaymentScreenSuccessful  0.737402                     False\n",
      "\n"
     ]
    }
   ],
   "source": [
    "# Realizar comparaciones individuales (246 vs 248, 247 vs 248)\n",
    "\n",
    "eventos = registros_filtrados['event_name'].unique()\n",
    "\n",
    "def generar_reporte_ttest(df_test, control_group, test_group):\n",
    "    resultados = {}\n",
    "    for evento in eventos:\n",
    "        p_value = test_event_proportions_ttest(evento, df_test, control_group, test_group)\n",
    "        resultados[evento] = p_value\n",
    "    \n",
    "    df_reporte = pd.DataFrame(resultados.items(), columns=['Evento', 'p_valor'])\n",
    "    df_reporte['Diferencia_Significativa'] = df_reporte['p_valor'] < alpha\n",
    "    return df_reporte\n",
    "\n",
    "# 246 vs. 248\n",
    "print(f\"Grupo de control {grupo_control_1} vs Grupo de prueba {grupo_prueba} (t-test)\")\n",
    "print(generar_reporte_ttest(registros_filtrados, grupo_control_1, grupo_prueba))\n",
    "print()\n",
    "\n",
    "# 247 vs. 248\n",
    "print(f\" Grupo de control {grupo_control_2} vs Grupo de prueba {grupo_prueba} (t-test)\")\n",
    "print(generar_reporte_ttest(registros_filtrados, grupo_control_2, grupo_prueba))\n",
    "print()\n"
   ]
  },
  {
   "cell_type": "code",
   "execution_count": 43,
   "metadata": {},
   "outputs": [
    {
     "name": "stdout",
     "output_type": "stream",
     "text": [
      " Grupos (246+247) Control Combinado vs. 248 (Prueba) (t-test)\n",
      "                    Evento   p_valor  Diferencia_Significativa\n",
      "0                 Tutorial  0.764237                     False\n",
      "1         MainScreenAppear  0.309782                     False\n",
      "2       OffersScreenAppear  0.434982                     False\n",
      "3         CartScreenAppear  0.181773                     False\n",
      "4  PaymentScreenSuccessful  0.600410                     False\n",
      "\n"
     ]
    }
   ],
   "source": [
    "# Realizar comparaciones con los grupos de control combinados\n",
    "\n",
    "df_grupos_analisis = registros_filtrados[registros_filtrados['group'].isin([grupo_control_1, grupo_control_2, grupo_prueba])].copy()\n",
    "grupo_control_combinado_id = 999\n",
    "df_grupos_analisis.loc[df_grupos_analisis['group'].isin([grupo_control_1, grupo_control_2]), 'group'] = grupo_control_combinado_id\n",
    "\n",
    "print(\" Grupos (246+247) Control Combinado vs. 248 (Prueba) (t-test)\")\n",
    "print(generar_reporte_ttest(df_grupos_analisis, grupo_control_combinado_id, grupo_prueba))\n",
    "print()\n"
   ]
  },
  {
   "cell_type": "markdown",
   "metadata": {},
   "source": [
    "Para entender estos resultados de las comparaciones individuales de cada grupo de control con el grupo 248 y la comparación combinada (246 + 247) con el grupo de prueba 248, es muy importante los valores booleanos de la columna de Diferencia_Significativa. Para cada prueba, este valor es False. Esto significa que en ninguna de las comparaciones, el p_valor fue menor alpha = 0.05.\n",
    "\n",
    "Comparaciones individuales (246 vs 248, 247 vs 248). En estas pruebas, todos los p_valor son mayores a 0.05. Esto indica que no hay diferencia estadísticamente significativa en el comportamiento de los usuarios en el grupo de prueba 248 en comparación con cada uno de los grupos de control tanto en la combinación con el grupo 246 como con el grupo 247.\n",
    "\n",
    "Comparación combinado (246+247 vs 248). Esta prueba  usa un tamaño de muestra más grande y, por lo tanto que las combinaciones individuales. De igual manera que en las pruebas individuales, todos los p_valor son mayores a 0.05. El p_valor para el evento que indica el exito del pago al realizar la compra, PaymentScreenSuccessful, también es mayor al valor de alpha obteniendo un p_valor de 0.600410. Esto confirma una vez más que no hay una diferencia significativa en la tasa de conversión final.\n",
    "\n",
    "Se puede concluir que la prueba del grupo de prueba, 248,  no tuvo un impacto estadísticamente significativo en el comportamiento de los usuarios ni en la tasa de conversión de los usuarios en la aplicación.\n",
    "\n",
    "En términos generales se puede decir que las fuentes alteradas no hicieron que los usuarios interactuaran más o menos con la pantalla principal, la página de ofertas, la página del carrito o la obtención del pago exitoso. Es muy probable que la diferencia que se observa en los conteos de eventos sea aleatoria y no un efecto real del cambio.\n",
    "\n",
    "Por lo anterior, al no presentarse significancias estadísticas entre las pruebas, la recomendación sería no implementar cambios en la versión principal de la aplicación porque no hay evidencia de un beneficio estadísticamente significativo en estas pruebas.\n"
   ]
  },
  {
   "cell_type": "markdown",
   "metadata": {},
   "source": [
    "### **5.5. ¿Qué nivel de significancia has establecido para probar las hipótesis estadísticas mencionadas anteriormente? Calcula cuántas pruebas de hipótesis estadísticas has realizado. Con un nivel de significancia estadística de 0.1, uno de cada 10 resultados podría ser falso. ¿Cuál debería ser el nivel de significancia? Si deseas cambiarlo, vuelve a ejecutar los pasos anteriores y comprueba tus conclusiones**"
   ]
  },
  {
   "cell_type": "code",
   "execution_count": 44,
   "metadata": {},
   "outputs": [
    {
     "name": "stdout",
     "output_type": "stream",
     "text": [
      "Número de eventos únicos: 5\n",
      "Número total de pruebas realizadas: 20\n"
     ]
    }
   ],
   "source": [
    "# Encontrar la cantidad de eventos únicos y la cantidad de pruebas realizadas\n",
    "\n",
    "eventos_unicos = registros_filtrados['event_name'].nunique()\n",
    "\n",
    "numero_de_comparaciones = 4\n",
    "\n",
    "total_pruebas = eventos_unicos * numero_de_comparaciones\n",
    "\n",
    "print(f\"Número de eventos únicos: {eventos_unicos}\")\n",
    "print(f\"Número total de pruebas realizadas: {total_pruebas}\")\n"
   ]
  },
  {
   "cell_type": "code",
   "execution_count": 45,
   "metadata": {},
   "outputs": [
    {
     "name": "stdout",
     "output_type": "stream",
     "text": [
      "Nivel de significancia corregido (Bonferroni): 0.002500\n"
     ]
    }
   ],
   "source": [
    "# Obtener el nivel de significancia corregida Bonferroni\n",
    "\n",
    "alpha_original = 0.05\n",
    "\n",
    "total_pruebas_calculado = eventos_unicos * numero_de_comparaciones\n",
    "\n",
    "alpha_corregido = alpha_original / total_pruebas_calculado\n",
    "\n",
    "print(f\"Nivel de significancia corregido (Bonferroni): {alpha_corregido:.6f}\")\n"
   ]
  },
  {
   "cell_type": "code",
   "execution_count": 46,
   "metadata": {},
   "outputs": [],
   "source": [
    "# Definir los grupos para la función \n",
    "\n",
    "grupo_control_1 = 246\n",
    "grupo_control_2 = 247\n",
    "grupo_prueba = 248\n",
    "alpha = 0.05\n",
    "\n",
    "# Crear un nuevo DataFrame para la prueba\n",
    "\n",
    "grupos_analisis = registros_filtrados[registros_filtrados['group'].isin([grupo_control_1, grupo_control_2, grupo_prueba])].copy()\n",
    "\n",
    "# Asignar un ID único al grupo de control combinado\n",
    "\n",
    "grupo_control_combinado_id = 249\n",
    "\n",
    "grupos_analisis.loc[grupos_analisis['group'].isin([grupo_control_1, grupo_control_2]), 'group'] = grupo_control_combinado_id\n"
   ]
  },
  {
   "cell_type": "code",
   "execution_count": 47,
   "metadata": {},
   "outputs": [
    {
     "name": "stdout",
     "output_type": "stream",
     "text": [
      "Prueba (t-test)\n",
      "Control Combinado (246+247) vs Prueba (248)\n",
      "\n",
      "                    Evento   p_valor  Diferencia_Significativa\n",
      "0                 Tutorial  0.764237                     False\n",
      "1         MainScreenAppear  0.309782                     False\n",
      "2       OffersScreenAppear  0.434982                     False\n",
      "3         CartScreenAppear  0.181773                     False\n",
      "4  PaymentScreenSuccessful  0.600410                     False\n",
      "\n"
     ]
    }
   ],
   "source": [
    "# Realizar la prueba t y generar el reporte\n",
    "\n",
    "resultados = {}\n",
    "eventos = grupos_analisis['event_name'].unique()\n",
    "\n",
    "for evento in eventos:\n",
    "    usuarios_g1 = grupos_analisis[grupos_analisis['group'] == grupo_control_combinado_id]['user_id'].drop_duplicates()\n",
    "    usuarios_g2 = grupos_analisis[grupos_analisis['group'] == grupo_prueba]['user_id'].drop_duplicates()\n",
    "    \n",
    "    usuarios_evento_g1 = grupos_analisis[(grupos_analisis['group'] == grupo_control_combinado_id) & (grupos_analisis['event_name'] == evento)]['user_id'].unique()\n",
    "    usuarios_evento_g2 = grupos_analisis[(grupos_analisis['group'] == grupo_prueba) & (grupos_analisis['event_name'] == evento)]['user_id'].unique()\n",
    "    \n",
    "    muestra_g1 = usuarios_g1.isin(usuarios_evento_g1).astype(int)\n",
    "    muestra_g2 = usuarios_g2.isin(usuarios_evento_g2).astype(int)\n",
    "\n",
    "    t_stat, p_value = st.ttest_ind(muestra_g1, muestra_g2, equal_var=False)\n",
    " \n",
    "    resultados[evento] = p_value\n",
    "\n",
    "\n",
    "# Convertir los resultados a un DataFrame\n",
    "\n",
    "df_reporte = pd.DataFrame(resultados.items(), columns=['Evento', 'p_valor'])\n",
    "df_reporte['Diferencia_Significativa'] = df_reporte['p_valor'] < alpha\n",
    "\n",
    "print(\"Prueba (t-test)\")\n",
    "print(\"Control Combinado (246+247) vs Prueba (248)\")\n",
    "print()\n",
    "print(df_reporte)\n",
    "print()\n"
   ]
  },
  {
   "cell_type": "markdown",
   "metadata": {},
   "source": [
    "Se estableció un número de compraraciones de 4, la cantidad de eventos de este análisis son 5, por lo tanto el número total de pruebas realizdas son 20. Por lo tanto al calcular el nivel de significacia corregico (Bonferroni) se obtiene un valor de apha = 0.0025. \n",
    "Con este valor alpha corregido, se realizó una nueva prueba t.\n",
    "\n",
    "Los resultados que se obtivieron confirman que no hay una diferencia significativa debido a que los datos obtenidos para p_valor de las pruebas todos son mayores al valor alpha corregido y el nivel de dignificancia obtenido consecuentemente es False. \n"
   ]
  },
  {
   "cell_type": "code",
   "execution_count": 48,
   "metadata": {},
   "outputs": [
    {
     "name": "stdout",
     "output_type": "stream",
     "text": [
      "\n",
      "Nivel de Significancia Corregido\n",
      "                    Evento   p_valor  Diferencia_Significativa_Corregida\n",
      "0                 Tutorial  0.937714                               False\n",
      "1         MainScreenAppear  0.757068                               False\n",
      "2       OffersScreenAppear  0.248161                               False\n",
      "3         CartScreenAppear  0.228916                               False\n",
      "4  PaymentScreenSuccessful  0.114618                               False\n",
      "\n",
      "Con la corrección, no se encontró ninguna diferencia significativa.\n",
      "La conclusión de que el experimento no tuvo un impacto es aún más sólida\n",
      "\n"
     ]
    }
   ],
   "source": [
    "# Cambiar el nivel de gignificaciona de acuerdo a la cantidad de pruebas\n",
    "\n",
    "df_reporte = pd.DataFrame({\n",
    "    'Evento': ['Tutorial', 'MainScreenAppear', 'OffersScreenAppear', 'CartScreenAppear', 'PaymentScreenSuccessful'],\n",
    "    'p_valor': [0.764237, 0.309782, 0.434982, 0.181773, 0.600410]})\n",
    "\n",
    "pruebas_realizadas = 15\n",
    "\n",
    "# Calcular el alpha corregido\n",
    "alpha_corregido = 0.05 / 15\n",
    "\n",
    "# Aplicar la corrección\n",
    "reporte['Diferencia_Significativa_Corregida'] = reporte['p_valor'] < alpha_corregido\n",
    "\n",
    "print()\n",
    "print('Nivel de Significancia Corregido')\n",
    "print(reporte[['Evento', 'p_valor', 'Diferencia_Significativa_Corregida']])\n",
    "\n",
    "# Definición de la prueba \n",
    "      \n",
    "diferencias_significativas = (reporte['Diferencia_Significativa_Corregida']).any()\n",
    "\n",
    "if diferencias_significativas:\n",
    "    print(\"\\nCon la corrección, todavía se encontraron diferencias significativas\")\n",
    "else:\n",
    "    print(\"\\nCon la corrección, no se encontró ninguna diferencia significativa.\")\n",
    "    print(\"La conclusión de que el experimento no tuvo un impacto es aún más sólida\")\n",
    "print()"
   ]
  },
  {
   "cell_type": "markdown",
   "metadata": {},
   "source": [
    "<div class=\"alert alert-block alert-success\">  \n",
    "<b>Comentario del revisor</b> <a class=\"tocSkip\"></a><br>  \n",
    "<b>Éxito</b> - Excelente manejo del análisis estadístico. Implementaste correctamente las pruebas A/A y A/B, aplicaste funciones reutilizables, y consideraste ajustes por pruebas múltiples usando Bonferroni. Tus conclusiones están sólidamente fundamentadas y reflejan una comprensión profunda del proceso experimental. Muy clara y precisa tu interpretación. </div>\n"
   ]
  },
  {
   "cell_type": "markdown",
   "metadata": {},
   "source": [
    "Se realizó una nueva prueba t, ahora cambiando las pruebas realizadas por un total de 15. El nuevo valor alpha corregido es 0.0033. Los datos de los p_valor obtenidos para estas pruebas fueron nuevamente mayores a este nuevo alpha corregido indicando una vez más que  no se encontró ninguna diferencia estadísticamente significativa entre los grupos 246, 247 y 248.\n",
    "\n",
    "El realizar estas prubas t, con diferentes valores de alpha (0.05, 0.0025 y 0.0033) y obtener datos para p_valor siempre mayores a estos valores alpha estandar y corregidos, comprueban una y otra vez que el experimento no tuvo un impacto estadísticamente significativo y esta conclusión cada vez es más sólida."
   ]
  },
  {
   "cell_type": "markdown",
   "metadata": {},
   "source": [
    "<div class=\"alert alert-block alert-success\">  \n",
    "<b>Comentario del revisor</b> <a class=\"tocSkip\"></a><br>  \n",
    "<b>Éxito</b> - Muy bien argumentado el refuerzo final del análisis: al variar el nivel de significancia y aplicar correctamente la corrección por comparaciones múltiples, consolidaste una conclusión estadísticamente robusta. Esto demuestra criterio analítico y comprensión de la validez de los resultados. Gran cierre técnico del experimento. </div>\n"
   ]
  },
  {
   "cell_type": "markdown",
   "metadata": {},
   "source": [
    "## Comentario general del revisor "
   ]
  },
  {
   "cell_type": "markdown",
   "metadata": {},
   "source": [
    "# Comentario General del Revisor\n",
    "\n",
    "<div class=\"alert alert-block alert-success\">  \n",
    "<b>Comentario del revisor</b> <a class=\"tocSkip\"></a>  \n",
    "    \n",
    "¡Felicidades! Tu proyecto está <strong>aprobado</strong>. Has cumplido con todos los requisitos solicitados en el brief, demostrando una ejecución ordenada, análisis precisos y una excelente argumentación en cada etapa. A continuación, destaco los puntos positivos más relevantes:\n",
    "\n",
    "#### Puntos Positivos:\n",
    "\n",
    "* **Procesamiento de datos:** Renombraste columnas, validaste tipos y filtraste correctamente el periodo representativo. Manejaste con claridad la transformación de fechas y la exclusión informada de registros no representativos.\n",
    "\n",
    "* **Visualización y análisis gráfico:** Generaste gráficos claros y útiles, como el histograma por fechas y la barra de frecuencia de eventos, apoyando bien tus observaciones con ellos.\n",
    "\n",
    "* **Embudo de conversión:** Identificaste con acierto las etapas, calculaste proporciones paso a paso, y fundamentaste la exclusión del evento “Tutorial” con criterios sólidos.\n",
    "\n",
    "* **Evaluación experimental (A/A/B):** Aplicaste pruebas t correctamente entre los grupos, programaste funciones reutilizables, verificaste la robustez estadística con distintos niveles de significancia y concluiste con claridad que el experimento no tuvo impacto significativo.\n",
    "\n",
    "* **Reflexión crítica:** Manejaste con criterio la interpretación de los valores p y el uso de la corrección de Bonferroni, reforzando la validez de tus conclusiones.\n",
    "\n",
    "Tu análisis es meticuloso y tu razonamiento estadístico está bien estructurado. Has entregado un proyecto muy completo y profesional. </div>\n"
   ]
  },
  {
   "cell_type": "code",
   "execution_count": null,
   "metadata": {},
   "outputs": [],
   "source": []
  }
 ],
 "metadata": {
  "kernelspec": {
   "display_name": "Python 3 (ipykernel)",
   "language": "python",
   "name": "python3"
  },
  "language_info": {
   "codemirror_mode": {
    "name": "ipython",
    "version": 3
   },
   "file_extension": ".py",
   "mimetype": "text/x-python",
   "name": "python",
   "nbconvert_exporter": "python",
   "pygments_lexer": "ipython3",
   "version": "3.9.23"
  }
 },
 "nbformat": 4,
 "nbformat_minor": 4
}
