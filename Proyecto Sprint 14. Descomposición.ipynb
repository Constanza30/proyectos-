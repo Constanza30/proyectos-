{
 "cells": [
  {
   "cell_type": "markdown",
   "metadata": {},
   "source": [
    "# Hola &#x1F600;,\n",
    "\n",
    "Soy **Hesus Garcia** – **\"Soy el único Hesus que conoces (y probablemente conocerás) 🌟\"** – Sí, como \"Jesús\", pero con una H que me hace único. Puede sonar raro, pero créeme, ¡no lo olvidarás! Como tu revisor en Triple-Ten, estoy aquí para guiarte y ayudarte a mejorar tu código. Si algo necesita un ajuste, no hay de qué preocuparse; ¡aquí estoy para hacer que tu trabajo brille con todo su potencial! ✨\n",
    "\n",
    "Cada vez que encuentre un detalle importante en tu código, te lo señalaré para que puedas corregirlo y así te prepares para un ambiente de trabajo real, donde el líder de tu equipo actuaría de manera similar. Si en algún momento no logras solucionar el problema, te daré más detalles para ayudarte en nuestra próxima oportunidad de revisión.\n",
    "\n",
    "Es importante que cuando encuentres un comentario, **no los muevas, no los modifiques, ni los borres**.\n",
    "\n",
    "---\n",
    "\n",
    "### Formato de Comentarios\n",
    "\n",
    "Revisaré cuidadosamente cada implementación en tu notebook para asegurar que cumpla con los requisitos y te daré comentarios de acuerdo al siguiente formato:\n",
    "\n",
    "\n",
    "<div class=\"alert alert-block alert-success\">\n",
    "<b>Comentario del revisor</b> <a class=\"tocSkip\"></a><br>\n",
    "    \n",
    "<b>Éxito</b> - ¡Excelente trabajo! Esta parte está bien implementada y contribuye significativamente al análisis de datos o al proyecto. Continúa aplicando estas buenas prácticas en futuras secciones.\n",
    "    \n",
    "</div>\n",
    "\n",
    "<div class=\"alert alert-block alert-warning\">\n",
    "<b>Comentario del revisor</b> <a class=\"tocSkip\"></a><br>\n",
    "    \n",
    "<b>Atención</b> ⚠️ - Este código está correcto, pero se puede optimizar. Considera implementar mejoras para que sea más eficiente y fácil de leer. Esto fortalecerá la calidad de tu proyecto.\n",
    "    \n",
    "</div>\n",
    "\n",
    "<div class=\"alert alert-block alert-danger\">\n",
    "<b>Comentario del revisor</b> <a class=\"tocSkip\"></a><br>\n",
    "    \n",
    "<b>A resolver</b> ❗ - Aquí hay un problema o error en el código que es necesario corregir para aprobar esta sección. Por favor, revisa y corrige este punto, ya que es fundamental para la validez del análisis y la precisión de los resultados.\n",
    "    \n",
    "</div>\n",
    "\n",
    "---\n",
    "\n",
    "Al final de cada revisión, recibirás un **Comentario General del Revisor** que incluirá:\n",
    "\n",
    "- **Aspectos positivos:** Un resumen de los puntos fuertes de tu proyecto.\n",
    "- **Áreas de mejora:** Sugerencias sobre aspectos donde puedes mejorar.\n",
    "- **Temas adicionales para investigar:** Ideas de temas opcionales que puedes explorar por tu cuenta para desarrollar aún más tus habilidades.\n",
    "\n",
    "Estos temas adicionales no son obligatorios en esta etapa, pero pueden serte útiles para profundizar en el futuro.\n",
    "\n",
    "---\n",
    "\n",
    "\n",
    "Esta estructura en viñetas facilita la lectura y comprensión de cada parte del comentario final.\n",
    "\n",
    "También puedes responderme de la siguiente manera si tienes alguna duda o quieres aclarar algo específico:\n",
    "\n",
    "\n",
    "<div class=\"alert alert-block alert-info\">\n",
    "<b>Respuesta del estudiante</b> <a class=\"tocSkip\"></a>\n",
    "    \n",
    "Aquí puedes escribir tu respuesta o pregunta sobre el comentario.\n",
    "    \n",
    "</div>\n",
    "\n",
    "\n",
    "**¡Empecemos!** &#x1F680;\n",
    "\n",
    "\n",
    "\n",
    "\n",
    "\n",
    "\n",
    "\n",
    "\n",
    "\n",
    "\n",
    "\n",
    "\n"
   ]
  },
  {
   "cell_type": "markdown",
   "metadata": {},
   "source": [
    "# **Plan de Descomposición Proyecto Final: Telecomunicaciones, identificar operadores ineficaces**"
   ]
  },
  {
   "cell_type": "markdown",
   "metadata": {},
   "source": [
    "## **1. Objetivo del proyecto**\n",
    "Identificar los operadores menos eficaces del servicio de telefonía virtual CallMeMaybe para mejorar el rendimiento operativo de los operadores. CallMeMaybe,  considera que un operador es ineficaz si tiene una gran cantidad de llamadas entrantes perdidas (internas y externas) y un tiempo de espera prolongado para las llamadas entrantes. "
   ]
  },
  {
   "cell_type": "markdown",
   "metadata": {},
   "source": [
    "## **2. Descomposición de las tareas**"
   ]
  },
  {
   "cell_type": "markdown",
   "metadata": {},
   "source": [
    "### **Paso 1. Preprocesamiento de los Datos**"
   ]
  },
  {
   "cell_type": "markdown",
   "metadata": {},
   "source": [
    "1. Cargar los dataset: telecom_dataset_us_csv y telecom_clients_us_csv\n",
    "2. Obtener información general de los datos con los métodos info( ), head( ), decribe( ). Conocer los nombre de columnas, detectar valores ausentes, tipos de datos, estadísticas.\n",
    "3. Convertir tipos de datos de ser necesario. Por ejemplo, cambiar el tipo de datos de las columnas 'date' y 'date_start' de los datasets cargados al tipo de datos datetime.\n",
    "4. Si es necesario, unir los datasets en 1 solo.\n",
    "5. Realizar limpieza de datos como valores ausentes, valores duplicados y valores atípicos."
   ]
  },
  {
   "cell_type": "markdown",
   "metadata": {},
   "source": [
    "### **Paso 2. EDA: Análisis Exploratorio de los Datos**"
   ]
  },
  {
   "cell_type": "markdown",
   "metadata": {},
   "source": [
    "1. Realizar un análisis del comportamiento de las llamadas entrantes y salientes.\n",
    "2. Realizar la distribución y el análisis de ellas en el total de llamadas.\n",
    "3. Realizar un análisis de las duración de las llamadas.\n",
    "4. Encontrar el porcentaje de llamadas perdidas.\n",
    "5. Realizar un análisis de las llamadas por operador y por fecha. "
   ]
  },
  {
   "cell_type": "markdown",
   "metadata": {},
   "source": [
    "### **Paso 3. Objetivo del proyecto. Identificar operadores menos eficaces**"
   ]
  },
  {
   "cell_type": "markdown",
   "metadata": {},
   "source": [
    "1. Establecer los parámetros de ineficacia:\n",
    "   - Cantidad de llamadas perdidas\n",
    "   - Tiempo de espera prolongado para llamadas entrantes\n",
    "2. Calcular la evaluación para detectar operadores ineficientes:\n",
    "   - Proporción de llamadas perdidas\n",
    "   - Tiempo promedio de espera para llamadas entrantes\n",
    "   - Cantidad de llamadas salientes\n",
    "   - Encontrar los operadores ineficientes"
   ]
  },
  {
   "cell_type": "markdown",
   "metadata": {},
   "source": [
    "### **Paso 4. Pruebas estadísticas**"
   ]
  },
  {
   "cell_type": "markdown",
   "metadata": {},
   "source": [
    "1. Formular la Hipótesis nula y la Hipótesis alternativa\n",
    "2. Definir la prueba de hipótesis\n",
    "3. Realizar las pruebas estadísticas\n",
    "4. Analizar los resultados"
   ]
  },
  {
   "cell_type": "markdown",
   "metadata": {},
   "source": [
    "### **Paso 5. Creación del Dashboard en Tableau**"
   ]
  },
  {
   "cell_type": "markdown",
   "metadata": {},
   "source": [
    "1. Trazar un  histograma para la duración de la llamada\n",
    "2. Trazar un gráfico circular que muestre la participación de las llamadas internas y externas\n",
    "3. Agregar un filtro por tipo de llamada (interna o externa)\n",
    "4. Realizar la publicación del Dashboard en Tableu Public\n",
    "5. Obtener el link de la publicacio2n del Dashboard"
   ]
  },
  {
   "cell_type": "markdown",
   "metadata": {},
   "source": [
    "### **Paso 6. Presentación del proyecto**"
   ]
  },
  {
   "cell_type": "markdown",
   "metadata": {},
   "source": [
    "1. Preparar la presentación del proyecto en PDF con hayaszgos y conclusiones\n",
    "2. Mostrar las fuentes que me ayudarán en el proyecto"
   ]
  },
  {
   "cell_type": "markdown",
   "metadata": {},
   "source": [
    "## **3. Envío el proyecto y aprobación**"
   ]
  },
  {
   "cell_type": "markdown",
   "metadata": {},
   "source": [
    "En esta parte se envía el proyecto para análisis, comentarios y/o aprobación del proyecto por parte del líder asignado."
   ]
  },
  {
   "cell_type": "markdown",
   "metadata": {},
   "source": [
    "\n",
    "# Comentario General del Revisor\n",
    "\n",
    "<div class=\"alert alert-block alert-success\">\n",
    "\n",
    "<b>Comentario del revisor</b> <a class=\"tocSkip\"></a>\n",
    "\n",
    "Has desarrollado un plan de proyecto bien estructurado, alineado con los objetivos operativos del caso y con una secuencia lógica de análisis de datos. La claridad con la que defines cada etapa, desde el preprocesamiento hasta la visualización final, es una excelente señal de planificación y entendimiento del flujo de trabajo en proyectos de analítica de datos. A continuación, te comparto un resumen más detallado:\n",
    "\n",
    "---\n",
    "\n",
    "### Aspectos positivos\n",
    "\n",
    "**Descomposición clara y completa del proceso**\n",
    "Has segmentado correctamente el proyecto en pasos técnicos y estratégicos, lo que facilitará la ejecución ordenada y coherente del análisis.\n",
    "\n",
    "**Enfoque estadístico bien planteado**\n",
    "Las hipótesis propuestas responden directamente al objetivo del proyecto y están formuladas con lógica adecuada.\n",
    "\n",
    "**Integración de visualización y comunicación de resultados**\n",
    "La inclusión de herramientas como Tableau para presentar hallazgos refuerza la visión de un producto analítico terminado y comunicable.\n",
    "\n",
    "---\n",
    "\n",
    "### Áreas de mejora\n",
    "\n",
    "**Imputación de datos ausentes**\n",
    "Considera el uso de herramientas como `SimpleImputer` de `sklearn` para sustituir valores faltantes por la media, mediana o valor más frecuente, según el caso. Esto permite conservar registros valiosos y evita perder información por eliminación directa.\n",
    "\n",
    "**Tratamiento de valores extremos como duración cero**\n",
    "Es importante analizar primero si estas llamadas representan errores, eventos válidos o patrones específicos. No deben eliminarse sin una justificación estadística. Revisa su frecuencia, contexto y cómo afectan a los promedios.\n",
    "\n",
    "**Profundizar en el análisis de las pruebas estadísticas**\n",
    "Asegúrate de elegir el tipo de prueba adecuado y verificar los supuestos necesarios, como normalidad y varianzas similares. La correcta validación dará más solidez a tus conclusiones sobre los operadores ineficaces.\n",
    "\n",
    "---\n",
    "\n",
    "### Temas adicionales para investigar\n",
    "\n",
    "**Evaluación de supuestos estadísticos**\n",
    "Explora cómo aplicar pruebas como Shapiro-Wilk para normalidad o Levene para igualdad de varianzas antes de realizar comparaciones de medias.\n",
    "\n",
    "**Métodos de detección de valores atípicos**\n",
    "Investiga técnicas como IQR, z-score y visualizaciones con boxplots para tomar mejores decisiones sobre valores extremos.\n",
    "\n",
    "\n",
    "</div>\n"
   ]
  },
  {
   "cell_type": "code",
   "execution_count": null,
   "metadata": {},
   "outputs": [],
   "source": []
  }
 ],
 "metadata": {
  "kernelspec": {
   "display_name": "Python 3 (ipykernel)",
   "language": "python",
   "name": "python3"
  },
  "language_info": {
   "codemirror_mode": {
    "name": "ipython",
    "version": 3
   },
   "file_extension": ".py",
   "mimetype": "text/x-python",
   "name": "python",
   "nbconvert_exporter": "python",
   "pygments_lexer": "ipython3",
   "version": "3.9.23"
  }
 },
 "nbformat": 4,
 "nbformat_minor": 4
}
